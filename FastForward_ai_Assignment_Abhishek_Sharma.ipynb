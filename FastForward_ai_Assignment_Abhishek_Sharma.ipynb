{
  "nbformat": 4,
  "nbformat_minor": 5,
  "metadata": {
    "kernelspec": {
      "display_name": "redaction_container",
      "language": "python",
      "name": "redaction_container"
    },
    "language_info": {
      "codemirror_mode": {
        "name": "ipython",
        "version": 3
      },
      "file_extension": ".py",
      "mimetype": "text/x-python",
      "name": "python",
      "nbconvert_exporter": "python",
      "pygments_lexer": "ipython3",
      "version": "3.6.10"
    },
    "colab": {
      "name": "FastForward.ai_Assignment_Abhishek_Sharma.ipynb",
      "provenance": [],
      "toc_visible": true
    }
  },
  "cells": [
    {
      "cell_type": "code",
      "metadata": {
        "colab": {
          "resources": {
            "http://localhost:8080/nbextensions/google.colab/files.js": {
              "data": "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",
              "ok": true,
              "headers": [
                [
                  "content-type",
                  "application/javascript"
                ]
              ],
              "status": 200,
              "status_text": ""
            }
          },
          "base_uri": "https://localhost:8080/",
          "height": 140
        },
        "id": "IpchdLwceXkp",
        "outputId": "ad24f541-4f28-42ec-d84f-8848c70c1046"
      },
      "source": [
        "from google.colab import files\n",
        "uploaded = files.upload()"
      ],
      "id": "IpchdLwceXkp",
      "execution_count": 3,
      "outputs": [
        {
          "output_type": "display_data",
          "data": {
            "text/html": [
              "\n",
              "     <input type=\"file\" id=\"files-800019c8-1eef-44c4-aa62-23f5f2f9e234\" name=\"files[]\" multiple disabled\n",
              "        style=\"border:none\" />\n",
              "     <output id=\"result-800019c8-1eef-44c4-aa62-23f5f2f9e234\">\n",
              "      Upload widget is only available when the cell has been executed in the\n",
              "      current browser session. Please rerun this cell to enable.\n",
              "      </output>\n",
              "      <script src=\"/nbextensions/google.colab/files.js\"></script> "
            ],
            "text/plain": [
              "<IPython.core.display.HTML object>"
            ]
          },
          "metadata": {
            "tags": []
          }
        },
        {
          "output_type": "stream",
          "text": [
            "Saving events.csv to events.csv\n",
            "Saving example.csv to example.csv\n",
            "Saving pages.csv to pages.csv\n"
          ],
          "name": "stdout"
        }
      ]
    },
    {
      "cell_type": "code",
      "metadata": {
        "id": "914d9a6e-06a6-4d21-8be7-03472acb2a6d"
      },
      "source": [
        "import pandas as pd\n",
        "import numpy as np\n",
        "import matplotlib\n",
        "import matplotlib.pyplot as plt\n",
        "import seaborn as sns\n",
        "from datetime import datetime"
      ],
      "id": "914d9a6e-06a6-4d21-8be7-03472acb2a6d",
      "execution_count": 603,
      "outputs": []
    },
    {
      "cell_type": "markdown",
      "metadata": {
        "id": "s1ymRIxcslES"
      },
      "source": [
        "# Data Preprocessing"
      ],
      "id": "s1ymRIxcslES"
    },
    {
      "cell_type": "code",
      "metadata": {
        "id": "101ee572-bb5f-4bb9-8032-d8a0bddd80df"
      },
      "source": [
        "events = pd.read_csv(\"events.csv\")\n"
      ],
      "id": "101ee572-bb5f-4bb9-8032-d8a0bddd80df",
      "execution_count": 604,
      "outputs": []
    },
    {
      "cell_type": "code",
      "metadata": {
        "id": "a022277c-36c5-40d9-b52d-0dcb402badb2"
      },
      "source": [
        "pages = pd.read_csv(\"pages.csv\")\n",
        "example = pd.read_csv(\"example.csv\")\n"
      ],
      "id": "a022277c-36c5-40d9-b52d-0dcb402badb2",
      "execution_count": 605,
      "outputs": []
    },
    {
      "cell_type": "code",
      "metadata": {
        "colab": {
          "base_uri": "https://localhost:8080/",
          "height": 419
        },
        "id": "ubFWs_ZM8MTZ",
        "outputId": "82276515-6553-4e0a-c116-61398001e158"
      },
      "source": [
        "pages"
      ],
      "id": "ubFWs_ZM8MTZ",
      "execution_count": 606,
      "outputs": [
        {
          "output_type": "execute_result",
          "data": {
            "text/html": [
              "<div>\n",
              "<style scoped>\n",
              "    .dataframe tbody tr th:only-of-type {\n",
              "        vertical-align: middle;\n",
              "    }\n",
              "\n",
              "    .dataframe tbody tr th {\n",
              "        vertical-align: top;\n",
              "    }\n",
              "\n",
              "    .dataframe thead th {\n",
              "        text-align: right;\n",
              "    }\n",
              "</style>\n",
              "<table border=\"1\" class=\"dataframe\">\n",
              "  <thead>\n",
              "    <tr style=\"text-align: right;\">\n",
              "      <th></th>\n",
              "      <th>trackTime</th>\n",
              "      <th>userId</th>\n",
              "      <th>page</th>\n",
              "    </tr>\n",
              "  </thead>\n",
              "  <tbody>\n",
              "    <tr>\n",
              "      <th>0</th>\n",
              "      <td>1.615350e+09</td>\n",
              "      <td>2acefd2c-8a82-4e1d-8aff-044522455633</td>\n",
              "      <td>Campaign 2 - Landing Page</td>\n",
              "    </tr>\n",
              "    <tr>\n",
              "      <th>1</th>\n",
              "      <td>1.615350e+09</td>\n",
              "      <td>2acefd2c-8a82-4e1d-8aff-044522455633</td>\n",
              "      <td>Ironing: Learn More Page</td>\n",
              "    </tr>\n",
              "    <tr>\n",
              "      <th>2</th>\n",
              "      <td>1.615351e+09</td>\n",
              "      <td>58691bae-d6ef-4f18-be62-fe071baddf0b</td>\n",
              "      <td>Campaign 1 - Landing Page</td>\n",
              "    </tr>\n",
              "    <tr>\n",
              "      <th>3</th>\n",
              "      <td>1.615351e+09</td>\n",
              "      <td>58691bae-d6ef-4f18-be62-fe071baddf0b</td>\n",
              "      <td>Cleaning: Booking First Page</td>\n",
              "    </tr>\n",
              "    <tr>\n",
              "      <th>4</th>\n",
              "      <td>1.615351e+09</td>\n",
              "      <td>58691bae-d6ef-4f18-be62-fe071baddf0b</td>\n",
              "      <td>Home Page</td>\n",
              "    </tr>\n",
              "    <tr>\n",
              "      <th>...</th>\n",
              "      <td>...</td>\n",
              "      <td>...</td>\n",
              "      <td>...</td>\n",
              "    </tr>\n",
              "    <tr>\n",
              "      <th>3368</th>\n",
              "      <td>1.618177e+09</td>\n",
              "      <td>cc9127f6-1f3d-433c-abfc-55a3408ba45f</td>\n",
              "      <td>Error Page</td>\n",
              "    </tr>\n",
              "    <tr>\n",
              "      <th>3369</th>\n",
              "      <td>1.618177e+09</td>\n",
              "      <td>cc9127f6-1f3d-433c-abfc-55a3408ba45f</td>\n",
              "      <td>Campaign 2 - Landing Page</td>\n",
              "    </tr>\n",
              "    <tr>\n",
              "      <th>3370</th>\n",
              "      <td>1.618177e+09</td>\n",
              "      <td>cc9127f6-1f3d-433c-abfc-55a3408ba45f</td>\n",
              "      <td>Error Page</td>\n",
              "    </tr>\n",
              "    <tr>\n",
              "      <th>3371</th>\n",
              "      <td>1.618185e+09</td>\n",
              "      <td>8c0d1ec9-e547-4d6d-b068-4240e2f5b751</td>\n",
              "      <td>Campaign 2 - Landing Page</td>\n",
              "    </tr>\n",
              "    <tr>\n",
              "      <th>3372</th>\n",
              "      <td>1.618185e+09</td>\n",
              "      <td>8c0d1ec9-e547-4d6d-b068-4240e2f5b751</td>\n",
              "      <td>Error Page</td>\n",
              "    </tr>\n",
              "  </tbody>\n",
              "</table>\n",
              "<p>3373 rows × 3 columns</p>\n",
              "</div>"
            ],
            "text/plain": [
              "         trackTime  ...                          page\n",
              "0     1.615350e+09  ...     Campaign 2 - Landing Page\n",
              "1     1.615350e+09  ...      Ironing: Learn More Page\n",
              "2     1.615351e+09  ...     Campaign 1 - Landing Page\n",
              "3     1.615351e+09  ...  Cleaning: Booking First Page\n",
              "4     1.615351e+09  ...                     Home Page\n",
              "...            ...  ...                           ...\n",
              "3368  1.618177e+09  ...                    Error Page\n",
              "3369  1.618177e+09  ...     Campaign 2 - Landing Page\n",
              "3370  1.618177e+09  ...                    Error Page\n",
              "3371  1.618185e+09  ...     Campaign 2 - Landing Page\n",
              "3372  1.618185e+09  ...                    Error Page\n",
              "\n",
              "[3373 rows x 3 columns]"
            ]
          },
          "metadata": {
            "tags": []
          },
          "execution_count": 606
        }
      ]
    },
    {
      "cell_type": "code",
      "metadata": {
        "colab": {
          "base_uri": "https://localhost:8080/",
          "height": 419
        },
        "id": "LVXYIMpG8NZb",
        "outputId": "cc588376-a598-4075-df84-f77fdf5416e1"
      },
      "source": [
        "events"
      ],
      "id": "LVXYIMpG8NZb",
      "execution_count": 607,
      "outputs": [
        {
          "output_type": "execute_result",
          "data": {
            "text/html": [
              "<div>\n",
              "<style scoped>\n",
              "    .dataframe tbody tr th:only-of-type {\n",
              "        vertical-align: middle;\n",
              "    }\n",
              "\n",
              "    .dataframe tbody tr th {\n",
              "        vertical-align: top;\n",
              "    }\n",
              "\n",
              "    .dataframe thead th {\n",
              "        text-align: right;\n",
              "    }\n",
              "</style>\n",
              "<table border=\"1\" class=\"dataframe\">\n",
              "  <thead>\n",
              "    <tr style=\"text-align: right;\">\n",
              "      <th></th>\n",
              "      <th>trackTime</th>\n",
              "      <th>userId</th>\n",
              "      <th>event</th>\n",
              "    </tr>\n",
              "  </thead>\n",
              "  <tbody>\n",
              "    <tr>\n",
              "      <th>0</th>\n",
              "      <td>1.615350e+12</td>\n",
              "      <td>2acefd2c-8a82-4e1d-8aff-044522455633</td>\n",
              "      <td>Learn More</td>\n",
              "    </tr>\n",
              "    <tr>\n",
              "      <th>1</th>\n",
              "      <td>1.615350e+12</td>\n",
              "      <td>58691bae-d6ef-4f18-be62-fe071baddf0b</td>\n",
              "      <td>Share in WhatsApp</td>\n",
              "    </tr>\n",
              "    <tr>\n",
              "      <th>2</th>\n",
              "      <td>1.615351e+12</td>\n",
              "      <td>58691bae-d6ef-4f18-be62-fe071baddf0b</td>\n",
              "      <td>Cleaning: Book Now</td>\n",
              "    </tr>\n",
              "    <tr>\n",
              "      <th>3</th>\n",
              "      <td>1.615351e+12</td>\n",
              "      <td>58691bae-d6ef-4f18-be62-fe071baddf0b</td>\n",
              "      <td>Menu: Home</td>\n",
              "    </tr>\n",
              "    <tr>\n",
              "      <th>4</th>\n",
              "      <td>1.615351e+12</td>\n",
              "      <td>58691bae-d6ef-4f18-be62-fe071baddf0b</td>\n",
              "      <td>Address Input</td>\n",
              "    </tr>\n",
              "    <tr>\n",
              "      <th>...</th>\n",
              "      <td>...</td>\n",
              "      <td>...</td>\n",
              "      <td>...</td>\n",
              "    </tr>\n",
              "    <tr>\n",
              "      <th>3089</th>\n",
              "      <td>1.617186e+12</td>\n",
              "      <td>2cede939-00ea-4543-b99a-fadc3fe37c4f</td>\n",
              "      <td>Select: 3 hours</td>\n",
              "    </tr>\n",
              "    <tr>\n",
              "      <th>3090</th>\n",
              "      <td>1.617186e+12</td>\n",
              "      <td>2cede939-00ea-4543-b99a-fadc3fe37c4f</td>\n",
              "      <td>Start at: 01:30 PM</td>\n",
              "    </tr>\n",
              "    <tr>\n",
              "      <th>3091</th>\n",
              "      <td>1.617186e+12</td>\n",
              "      <td>2cede939-00ea-4543-b99a-fadc3fe37c4f</td>\n",
              "      <td>Booking Summary</td>\n",
              "    </tr>\n",
              "    <tr>\n",
              "      <th>3092</th>\n",
              "      <td>1.617186e+12</td>\n",
              "      <td>2cede939-00ea-4543-b99a-fadc3fe37c4f</td>\n",
              "      <td>Enter Phone Number</td>\n",
              "    </tr>\n",
              "    <tr>\n",
              "      <th>3093</th>\n",
              "      <td>1.617186e+12</td>\n",
              "      <td>2cede939-00ea-4543-b99a-fadc3fe37c4f</td>\n",
              "      <td>Complete Booking</td>\n",
              "    </tr>\n",
              "  </tbody>\n",
              "</table>\n",
              "<p>3094 rows × 3 columns</p>\n",
              "</div>"
            ],
            "text/plain": [
              "         trackTime                                userId               event\n",
              "0     1.615350e+12  2acefd2c-8a82-4e1d-8aff-044522455633          Learn More\n",
              "1     1.615350e+12  58691bae-d6ef-4f18-be62-fe071baddf0b   Share in WhatsApp\n",
              "2     1.615351e+12  58691bae-d6ef-4f18-be62-fe071baddf0b  Cleaning: Book Now\n",
              "3     1.615351e+12  58691bae-d6ef-4f18-be62-fe071baddf0b          Menu: Home\n",
              "4     1.615351e+12  58691bae-d6ef-4f18-be62-fe071baddf0b       Address Input\n",
              "...            ...                                   ...                 ...\n",
              "3089  1.617186e+12  2cede939-00ea-4543-b99a-fadc3fe37c4f     Select: 3 hours\n",
              "3090  1.617186e+12  2cede939-00ea-4543-b99a-fadc3fe37c4f  Start at: 01:30 PM\n",
              "3091  1.617186e+12  2cede939-00ea-4543-b99a-fadc3fe37c4f     Booking Summary\n",
              "3092  1.617186e+12  2cede939-00ea-4543-b99a-fadc3fe37c4f  Enter Phone Number\n",
              "3093  1.617186e+12  2cede939-00ea-4543-b99a-fadc3fe37c4f    Complete Booking\n",
              "\n",
              "[3094 rows x 3 columns]"
            ]
          },
          "metadata": {
            "tags": []
          },
          "execution_count": 607
        }
      ]
    },
    {
      "cell_type": "code",
      "metadata": {
        "colab": {
          "base_uri": "https://localhost:8080/",
          "height": 545
        },
        "id": "dfb9a16f-8ec6-4ccc-897d-8e5880b337ed",
        "outputId": "7079dcc6-601f-472e-fc81-1a19b7954f57"
      },
      "source": [
        "example"
      ],
      "id": "dfb9a16f-8ec6-4ccc-897d-8e5880b337ed",
      "execution_count": 608,
      "outputs": [
        {
          "output_type": "execute_result",
          "data": {
            "text/html": [
              "<div>\n",
              "<style scoped>\n",
              "    .dataframe tbody tr th:only-of-type {\n",
              "        vertical-align: middle;\n",
              "    }\n",
              "\n",
              "    .dataframe tbody tr th {\n",
              "        vertical-align: top;\n",
              "    }\n",
              "\n",
              "    .dataframe thead th {\n",
              "        text-align: right;\n",
              "    }\n",
              "</style>\n",
              "<table border=\"1\" class=\"dataframe\">\n",
              "  <thead>\n",
              "    <tr style=\"text-align: right;\">\n",
              "      <th></th>\n",
              "      <th>trackTime</th>\n",
              "      <th>userId</th>\n",
              "      <th>event</th>\n",
              "    </tr>\n",
              "  </thead>\n",
              "  <tbody>\n",
              "    <tr>\n",
              "      <th>0</th>\n",
              "      <td>1617039624</td>\n",
              "      <td>ce2dac97-46f6-4f01-b6a3-b57d825df10d</td>\n",
              "      <td>Campaign 2 - Landing Page</td>\n",
              "    </tr>\n",
              "    <tr>\n",
              "      <th>1</th>\n",
              "      <td>1617039641</td>\n",
              "      <td>ce2dac97-46f6-4f01-b6a3-b57d825df10d</td>\n",
              "      <td>Cooking: Book Now</td>\n",
              "    </tr>\n",
              "    <tr>\n",
              "      <th>2</th>\n",
              "      <td>1617039646</td>\n",
              "      <td>ce2dac97-46f6-4f01-b6a3-b57d825df10d</td>\n",
              "      <td>Select Region: Lahore</td>\n",
              "    </tr>\n",
              "    <tr>\n",
              "      <th>3</th>\n",
              "      <td>1617039665</td>\n",
              "      <td>ce2dac97-46f6-4f01-b6a3-b57d825df10d</td>\n",
              "      <td>Address Input</td>\n",
              "    </tr>\n",
              "    <tr>\n",
              "      <th>4</th>\n",
              "      <td>1617039672</td>\n",
              "      <td>ce2dac97-46f6-4f01-b6a3-b57d825df10d</td>\n",
              "      <td>See Available Slots</td>\n",
              "    </tr>\n",
              "    <tr>\n",
              "      <th>5</th>\n",
              "      <td>1617039686</td>\n",
              "      <td>ce2dac97-46f6-4f01-b6a3-b57d825df10d</td>\n",
              "      <td>Select Helper: Female</td>\n",
              "    </tr>\n",
              "    <tr>\n",
              "      <th>6</th>\n",
              "      <td>1617039690</td>\n",
              "      <td>ce2dac97-46f6-4f01-b6a3-b57d825df10d</td>\n",
              "      <td>Select: 2 hours</td>\n",
              "    </tr>\n",
              "    <tr>\n",
              "      <th>7</th>\n",
              "      <td>1617039714</td>\n",
              "      <td>ce2dac97-46f6-4f01-b6a3-b57d825df10d</td>\n",
              "      <td>Select: 3 hours</td>\n",
              "    </tr>\n",
              "    <tr>\n",
              "      <th>8</th>\n",
              "      <td>1617039720</td>\n",
              "      <td>ce2dac97-46f6-4f01-b6a3-b57d825df10d</td>\n",
              "      <td>Select: 4 hours</td>\n",
              "    </tr>\n",
              "    <tr>\n",
              "      <th>9</th>\n",
              "      <td>1617039723</td>\n",
              "      <td>ce2dac97-46f6-4f01-b6a3-b57d825df10d</td>\n",
              "      <td>Start at 10:30 AM</td>\n",
              "    </tr>\n",
              "    <tr>\n",
              "      <th>10</th>\n",
              "      <td>1617039725</td>\n",
              "      <td>ce2dac97-46f6-4f01-b6a3-b57d825df10d</td>\n",
              "      <td>Start at 11:30 AM</td>\n",
              "    </tr>\n",
              "    <tr>\n",
              "      <th>11</th>\n",
              "      <td>1617039727</td>\n",
              "      <td>ce2dac97-46f6-4f01-b6a3-b57d825df10d</td>\n",
              "      <td>Start at 1:30 PM</td>\n",
              "    </tr>\n",
              "    <tr>\n",
              "      <th>12</th>\n",
              "      <td>1617039728</td>\n",
              "      <td>ce2dac97-46f6-4f01-b6a3-b57d825df10d</td>\n",
              "      <td>Start at 3:30 PM</td>\n",
              "    </tr>\n",
              "    <tr>\n",
              "      <th>13</th>\n",
              "      <td>1617039729</td>\n",
              "      <td>ce2dac97-46f6-4f01-b6a3-b57d825df10d</td>\n",
              "      <td>Booking Summary</td>\n",
              "    </tr>\n",
              "    <tr>\n",
              "      <th>14</th>\n",
              "      <td>1617039757</td>\n",
              "      <td>ce2dac97-46f6-4f01-b6a3-b57d825df10d</td>\n",
              "      <td>Enter Phone Number</td>\n",
              "    </tr>\n",
              "    <tr>\n",
              "      <th>15</th>\n",
              "      <td>1617039758</td>\n",
              "      <td>ce2dac97-46f6-4f01-b6a3-b57d825df10d</td>\n",
              "      <td>Complete Booking</td>\n",
              "    </tr>\n",
              "  </tbody>\n",
              "</table>\n",
              "</div>"
            ],
            "text/plain": [
              "     trackTime                                userId                      event\n",
              "0   1617039624  ce2dac97-46f6-4f01-b6a3-b57d825df10d  Campaign 2 - Landing Page\n",
              "1   1617039641  ce2dac97-46f6-4f01-b6a3-b57d825df10d          Cooking: Book Now\n",
              "2   1617039646  ce2dac97-46f6-4f01-b6a3-b57d825df10d      Select Region: Lahore\n",
              "3   1617039665  ce2dac97-46f6-4f01-b6a3-b57d825df10d              Address Input\n",
              "4   1617039672  ce2dac97-46f6-4f01-b6a3-b57d825df10d        See Available Slots\n",
              "5   1617039686  ce2dac97-46f6-4f01-b6a3-b57d825df10d      Select Helper: Female\n",
              "6   1617039690  ce2dac97-46f6-4f01-b6a3-b57d825df10d            Select: 2 hours\n",
              "7   1617039714  ce2dac97-46f6-4f01-b6a3-b57d825df10d            Select: 3 hours\n",
              "8   1617039720  ce2dac97-46f6-4f01-b6a3-b57d825df10d            Select: 4 hours\n",
              "9   1617039723  ce2dac97-46f6-4f01-b6a3-b57d825df10d          Start at 10:30 AM\n",
              "10  1617039725  ce2dac97-46f6-4f01-b6a3-b57d825df10d          Start at 11:30 AM\n",
              "11  1617039727  ce2dac97-46f6-4f01-b6a3-b57d825df10d           Start at 1:30 PM\n",
              "12  1617039728  ce2dac97-46f6-4f01-b6a3-b57d825df10d           Start at 3:30 PM\n",
              "13  1617039729  ce2dac97-46f6-4f01-b6a3-b57d825df10d            Booking Summary\n",
              "14  1617039757  ce2dac97-46f6-4f01-b6a3-b57d825df10d         Enter Phone Number\n",
              "15  1617039758  ce2dac97-46f6-4f01-b6a3-b57d825df10d           Complete Booking"
            ]
          },
          "metadata": {
            "tags": []
          },
          "execution_count": 608
        }
      ]
    },
    {
      "cell_type": "code",
      "metadata": {
        "id": "p3vxWWCW8K32"
      },
      "source": [
        "events[\"time\"] = pd.to_datetime(events['trackTime'],unit='ms') #converting the UNIX time format to UTC Timestamps and putting them into another column of the dataframe\n",
        "pages[\"time\"] = pd.to_datetime(pages['trackTime'],unit='s')\n"
      ],
      "id": "p3vxWWCW8K32",
      "execution_count": 609,
      "outputs": []
    },
    {
      "cell_type": "code",
      "metadata": {
        "id": "9_Nsmx28_88G"
      },
      "source": [
        "pages.drop('trackTime', axis=1, inplace=True) #Dropping the trackTime with UNIX time format\n",
        "events.drop('trackTime', axis=1, inplace=True)"
      ],
      "id": "9_Nsmx28_88G",
      "execution_count": 610,
      "outputs": []
    },
    {
      "cell_type": "code",
      "metadata": {
        "colab": {
          "base_uri": "https://localhost:8080/",
          "height": 419
        },
        "id": "YxAKh0x8BmT1",
        "outputId": "f299bee6-eb1a-48e3-fb47-3f7651e24a4c"
      },
      "source": [
        "pages"
      ],
      "id": "YxAKh0x8BmT1",
      "execution_count": 611,
      "outputs": [
        {
          "output_type": "execute_result",
          "data": {
            "text/html": [
              "<div>\n",
              "<style scoped>\n",
              "    .dataframe tbody tr th:only-of-type {\n",
              "        vertical-align: middle;\n",
              "    }\n",
              "\n",
              "    .dataframe tbody tr th {\n",
              "        vertical-align: top;\n",
              "    }\n",
              "\n",
              "    .dataframe thead th {\n",
              "        text-align: right;\n",
              "    }\n",
              "</style>\n",
              "<table border=\"1\" class=\"dataframe\">\n",
              "  <thead>\n",
              "    <tr style=\"text-align: right;\">\n",
              "      <th></th>\n",
              "      <th>userId</th>\n",
              "      <th>page</th>\n",
              "      <th>time</th>\n",
              "    </tr>\n",
              "  </thead>\n",
              "  <tbody>\n",
              "    <tr>\n",
              "      <th>0</th>\n",
              "      <td>2acefd2c-8a82-4e1d-8aff-044522455633</td>\n",
              "      <td>Campaign 2 - Landing Page</td>\n",
              "      <td>2021-03-10 04:17:25</td>\n",
              "    </tr>\n",
              "    <tr>\n",
              "      <th>1</th>\n",
              "      <td>2acefd2c-8a82-4e1d-8aff-044522455633</td>\n",
              "      <td>Ironing: Learn More Page</td>\n",
              "      <td>2021-03-10 04:17:30</td>\n",
              "    </tr>\n",
              "    <tr>\n",
              "      <th>2</th>\n",
              "      <td>58691bae-d6ef-4f18-be62-fe071baddf0b</td>\n",
              "      <td>Campaign 1 - Landing Page</td>\n",
              "      <td>2021-03-10 04:30:45</td>\n",
              "    </tr>\n",
              "    <tr>\n",
              "      <th>3</th>\n",
              "      <td>58691bae-d6ef-4f18-be62-fe071baddf0b</td>\n",
              "      <td>Cleaning: Booking First Page</td>\n",
              "      <td>2021-03-10 04:30:50</td>\n",
              "    </tr>\n",
              "    <tr>\n",
              "      <th>4</th>\n",
              "      <td>58691bae-d6ef-4f18-be62-fe071baddf0b</td>\n",
              "      <td>Home Page</td>\n",
              "      <td>2021-03-10 04:31:12</td>\n",
              "    </tr>\n",
              "    <tr>\n",
              "      <th>...</th>\n",
              "      <td>...</td>\n",
              "      <td>...</td>\n",
              "      <td>...</td>\n",
              "    </tr>\n",
              "    <tr>\n",
              "      <th>3368</th>\n",
              "      <td>cc9127f6-1f3d-433c-abfc-55a3408ba45f</td>\n",
              "      <td>Error Page</td>\n",
              "      <td>2021-04-11 21:37:17</td>\n",
              "    </tr>\n",
              "    <tr>\n",
              "      <th>3369</th>\n",
              "      <td>cc9127f6-1f3d-433c-abfc-55a3408ba45f</td>\n",
              "      <td>Campaign 2 - Landing Page</td>\n",
              "      <td>2021-04-11 21:38:21</td>\n",
              "    </tr>\n",
              "    <tr>\n",
              "      <th>3370</th>\n",
              "      <td>cc9127f6-1f3d-433c-abfc-55a3408ba45f</td>\n",
              "      <td>Error Page</td>\n",
              "      <td>2021-04-11 21:38:23</td>\n",
              "    </tr>\n",
              "    <tr>\n",
              "      <th>3371</th>\n",
              "      <td>8c0d1ec9-e547-4d6d-b068-4240e2f5b751</td>\n",
              "      <td>Campaign 2 - Landing Page</td>\n",
              "      <td>2021-04-11 23:46:20</td>\n",
              "    </tr>\n",
              "    <tr>\n",
              "      <th>3372</th>\n",
              "      <td>8c0d1ec9-e547-4d6d-b068-4240e2f5b751</td>\n",
              "      <td>Error Page</td>\n",
              "      <td>2021-04-11 23:46:22</td>\n",
              "    </tr>\n",
              "  </tbody>\n",
              "</table>\n",
              "<p>3373 rows × 3 columns</p>\n",
              "</div>"
            ],
            "text/plain": [
              "                                    userId  ...                time\n",
              "0     2acefd2c-8a82-4e1d-8aff-044522455633  ... 2021-03-10 04:17:25\n",
              "1     2acefd2c-8a82-4e1d-8aff-044522455633  ... 2021-03-10 04:17:30\n",
              "2     58691bae-d6ef-4f18-be62-fe071baddf0b  ... 2021-03-10 04:30:45\n",
              "3     58691bae-d6ef-4f18-be62-fe071baddf0b  ... 2021-03-10 04:30:50\n",
              "4     58691bae-d6ef-4f18-be62-fe071baddf0b  ... 2021-03-10 04:31:12\n",
              "...                                    ...  ...                 ...\n",
              "3368  cc9127f6-1f3d-433c-abfc-55a3408ba45f  ... 2021-04-11 21:37:17\n",
              "3369  cc9127f6-1f3d-433c-abfc-55a3408ba45f  ... 2021-04-11 21:38:21\n",
              "3370  cc9127f6-1f3d-433c-abfc-55a3408ba45f  ... 2021-04-11 21:38:23\n",
              "3371  8c0d1ec9-e547-4d6d-b068-4240e2f5b751  ... 2021-04-11 23:46:20\n",
              "3372  8c0d1ec9-e547-4d6d-b068-4240e2f5b751  ... 2021-04-11 23:46:22\n",
              "\n",
              "[3373 rows x 3 columns]"
            ]
          },
          "metadata": {
            "tags": []
          },
          "execution_count": 611
        }
      ]
    },
    {
      "cell_type": "code",
      "metadata": {
        "colab": {
          "base_uri": "https://localhost:8080/",
          "height": 289
        },
        "id": "mLq7-b-f9aKb",
        "outputId": "be692c5a-189a-458e-f049-0cd2f8098e8d"
      },
      "source": [
        "pages.describe()"
      ],
      "id": "mLq7-b-f9aKb",
      "execution_count": 612,
      "outputs": [
        {
          "output_type": "stream",
          "text": [
            "/usr/local/lib/python3.7/dist-packages/ipykernel_launcher.py:1: FutureWarning: Treating datetime data as categorical rather than numeric in `.describe` is deprecated and will be removed in a future version of pandas. Specify `datetime_is_numeric=True` to silence this warning and adopt the future behavior now.\n",
            "  \"\"\"Entry point for launching an IPython kernel.\n"
          ],
          "name": "stderr"
        },
        {
          "output_type": "execute_result",
          "data": {
            "text/html": [
              "<div>\n",
              "<style scoped>\n",
              "    .dataframe tbody tr th:only-of-type {\n",
              "        vertical-align: middle;\n",
              "    }\n",
              "\n",
              "    .dataframe tbody tr th {\n",
              "        vertical-align: top;\n",
              "    }\n",
              "\n",
              "    .dataframe thead th {\n",
              "        text-align: right;\n",
              "    }\n",
              "</style>\n",
              "<table border=\"1\" class=\"dataframe\">\n",
              "  <thead>\n",
              "    <tr style=\"text-align: right;\">\n",
              "      <th></th>\n",
              "      <th>userId</th>\n",
              "      <th>page</th>\n",
              "      <th>time</th>\n",
              "    </tr>\n",
              "  </thead>\n",
              "  <tbody>\n",
              "    <tr>\n",
              "      <th>count</th>\n",
              "      <td>3371</td>\n",
              "      <td>3369</td>\n",
              "      <td>3334</td>\n",
              "    </tr>\n",
              "    <tr>\n",
              "      <th>unique</th>\n",
              "      <td>1052</td>\n",
              "      <td>26</td>\n",
              "      <td>3318</td>\n",
              "    </tr>\n",
              "    <tr>\n",
              "      <th>top</th>\n",
              "      <td>495eafd7-46ba-4d11-887b-5e8aa24bc24e</td>\n",
              "      <td>Campaign 2 - Landing Page</td>\n",
              "      <td>2021-04-07 06:56:35</td>\n",
              "    </tr>\n",
              "    <tr>\n",
              "      <th>freq</th>\n",
              "      <td>44</td>\n",
              "      <td>721</td>\n",
              "      <td>3</td>\n",
              "    </tr>\n",
              "    <tr>\n",
              "      <th>first</th>\n",
              "      <td>NaN</td>\n",
              "      <td>NaN</td>\n",
              "      <td>2021-03-10 04:17:25</td>\n",
              "    </tr>\n",
              "    <tr>\n",
              "      <th>last</th>\n",
              "      <td>NaN</td>\n",
              "      <td>NaN</td>\n",
              "      <td>2021-04-11 23:46:22</td>\n",
              "    </tr>\n",
              "  </tbody>\n",
              "</table>\n",
              "</div>"
            ],
            "text/plain": [
              "                                      userId  ...                 time\n",
              "count                                   3371  ...                 3334\n",
              "unique                                  1052  ...                 3318\n",
              "top     495eafd7-46ba-4d11-887b-5e8aa24bc24e  ...  2021-04-07 06:56:35\n",
              "freq                                      44  ...                    3\n",
              "first                                    NaN  ...  2021-03-10 04:17:25\n",
              "last                                     NaN  ...  2021-04-11 23:46:22\n",
              "\n",
              "[6 rows x 3 columns]"
            ]
          },
          "metadata": {
            "tags": []
          },
          "execution_count": 612
        }
      ]
    },
    {
      "cell_type": "code",
      "metadata": {
        "colab": {
          "base_uri": "https://localhost:8080/",
          "height": 289
        },
        "id": "-_-p9hn6KYw5",
        "outputId": "52e78cea-fe03-4a67-e862-7a3c26296cfe"
      },
      "source": [
        "events.describe()"
      ],
      "id": "-_-p9hn6KYw5",
      "execution_count": 613,
      "outputs": [
        {
          "output_type": "stream",
          "text": [
            "/usr/local/lib/python3.7/dist-packages/ipykernel_launcher.py:1: FutureWarning: Treating datetime data as categorical rather than numeric in `.describe` is deprecated and will be removed in a future version of pandas. Specify `datetime_is_numeric=True` to silence this warning and adopt the future behavior now.\n",
            "  \"\"\"Entry point for launching an IPython kernel.\n"
          ],
          "name": "stderr"
        },
        {
          "output_type": "execute_result",
          "data": {
            "text/html": [
              "<div>\n",
              "<style scoped>\n",
              "    .dataframe tbody tr th:only-of-type {\n",
              "        vertical-align: middle;\n",
              "    }\n",
              "\n",
              "    .dataframe tbody tr th {\n",
              "        vertical-align: top;\n",
              "    }\n",
              "\n",
              "    .dataframe thead th {\n",
              "        text-align: right;\n",
              "    }\n",
              "</style>\n",
              "<table border=\"1\" class=\"dataframe\">\n",
              "  <thead>\n",
              "    <tr style=\"text-align: right;\">\n",
              "      <th></th>\n",
              "      <th>userId</th>\n",
              "      <th>event</th>\n",
              "      <th>time</th>\n",
              "    </tr>\n",
              "  </thead>\n",
              "  <tbody>\n",
              "    <tr>\n",
              "      <th>count</th>\n",
              "      <td>3093</td>\n",
              "      <td>3090</td>\n",
              "      <td>3045</td>\n",
              "    </tr>\n",
              "    <tr>\n",
              "      <th>unique</th>\n",
              "      <td>545</td>\n",
              "      <td>44</td>\n",
              "      <td>3045</td>\n",
              "    </tr>\n",
              "    <tr>\n",
              "      <th>top</th>\n",
              "      <td>82fa23d4-deae-4bf9-8e3c-a9da17fbda1a</td>\n",
              "      <td>Menu: Services</td>\n",
              "      <td>2021-03-20 02:36:45.879000</td>\n",
              "    </tr>\n",
              "    <tr>\n",
              "      <th>freq</th>\n",
              "      <td>56</td>\n",
              "      <td>480</td>\n",
              "      <td>1</td>\n",
              "    </tr>\n",
              "    <tr>\n",
              "      <th>first</th>\n",
              "      <td>NaN</td>\n",
              "      <td>NaN</td>\n",
              "      <td>2021-03-10 04:17:29.023000</td>\n",
              "    </tr>\n",
              "    <tr>\n",
              "      <th>last</th>\n",
              "      <td>NaN</td>\n",
              "      <td>NaN</td>\n",
              "      <td>2021-03-31 10:16:15.885000</td>\n",
              "    </tr>\n",
              "  </tbody>\n",
              "</table>\n",
              "</div>"
            ],
            "text/plain": [
              "                                      userId  ...                        time\n",
              "count                                   3093  ...                        3045\n",
              "unique                                   545  ...                        3045\n",
              "top     82fa23d4-deae-4bf9-8e3c-a9da17fbda1a  ...  2021-03-20 02:36:45.879000\n",
              "freq                                      56  ...                           1\n",
              "first                                    NaN  ...  2021-03-10 04:17:29.023000\n",
              "last                                     NaN  ...  2021-03-31 10:16:15.885000\n",
              "\n",
              "[6 rows x 3 columns]"
            ]
          },
          "metadata": {
            "tags": []
          },
          "execution_count": 613
        }
      ]
    },
    {
      "cell_type": "code",
      "metadata": {
        "colab": {
          "base_uri": "https://localhost:8080/"
        },
        "id": "FEU_acze7qI-",
        "outputId": "9ab5a106-4270-4579-935d-a74c2af36a4f"
      },
      "source": [
        "pages.isnull().sum() #checking the null values in pages.csv\n"
      ],
      "id": "FEU_acze7qI-",
      "execution_count": 614,
      "outputs": [
        {
          "output_type": "execute_result",
          "data": {
            "text/plain": [
              "userId     2\n",
              "page       4\n",
              "time      39\n",
              "dtype: int64"
            ]
          },
          "metadata": {
            "tags": []
          },
          "execution_count": 614
        }
      ]
    },
    {
      "cell_type": "code",
      "metadata": {
        "colab": {
          "base_uri": "https://localhost:8080/"
        },
        "id": "QJeTwCdj76Qz",
        "outputId": "ed415e6b-cc5b-4e78-c8d7-6e88f2d4cc5d"
      },
      "source": [
        "events.isnull().sum()"
      ],
      "id": "QJeTwCdj76Qz",
      "execution_count": 615,
      "outputs": [
        {
          "output_type": "execute_result",
          "data": {
            "text/plain": [
              "userId     1\n",
              "event      4\n",
              "time      49\n",
              "dtype: int64"
            ]
          },
          "metadata": {
            "tags": []
          },
          "execution_count": 615
        }
      ]
    },
    {
      "cell_type": "markdown",
      "metadata": {
        "id": "TCkxkwIbtTz7"
      },
      "source": [
        "The count of the null values is low as compared to the whole dataset so it is better drop them for the further analysis."
      ],
      "id": "TCkxkwIbtTz7"
    },
    {
      "cell_type": "code",
      "metadata": {
        "id": "xCQqT_6H8qm8"
      },
      "source": [
        "events = events.dropna()\n",
        "pages = pages.dropna()"
      ],
      "id": "xCQqT_6H8qm8",
      "execution_count": 616,
      "outputs": []
    },
    {
      "cell_type": "code",
      "metadata": {
        "colab": {
          "base_uri": "https://localhost:8080/",
          "height": 289
        },
        "id": "M17Q8DpMKx8h",
        "outputId": "181a0cce-8aec-4362-914d-86a881604fb6"
      },
      "source": [
        "pages.describe()"
      ],
      "id": "M17Q8DpMKx8h",
      "execution_count": 617,
      "outputs": [
        {
          "output_type": "stream",
          "text": [
            "/usr/local/lib/python3.7/dist-packages/ipykernel_launcher.py:1: FutureWarning: Treating datetime data as categorical rather than numeric in `.describe` is deprecated and will be removed in a future version of pandas. Specify `datetime_is_numeric=True` to silence this warning and adopt the future behavior now.\n",
            "  \"\"\"Entry point for launching an IPython kernel.\n"
          ],
          "name": "stderr"
        },
        {
          "output_type": "execute_result",
          "data": {
            "text/html": [
              "<div>\n",
              "<style scoped>\n",
              "    .dataframe tbody tr th:only-of-type {\n",
              "        vertical-align: middle;\n",
              "    }\n",
              "\n",
              "    .dataframe tbody tr th {\n",
              "        vertical-align: top;\n",
              "    }\n",
              "\n",
              "    .dataframe thead th {\n",
              "        text-align: right;\n",
              "    }\n",
              "</style>\n",
              "<table border=\"1\" class=\"dataframe\">\n",
              "  <thead>\n",
              "    <tr style=\"text-align: right;\">\n",
              "      <th></th>\n",
              "      <th>userId</th>\n",
              "      <th>page</th>\n",
              "      <th>time</th>\n",
              "    </tr>\n",
              "  </thead>\n",
              "  <tbody>\n",
              "    <tr>\n",
              "      <th>count</th>\n",
              "      <td>3328</td>\n",
              "      <td>3328</td>\n",
              "      <td>3328</td>\n",
              "    </tr>\n",
              "    <tr>\n",
              "      <th>unique</th>\n",
              "      <td>1049</td>\n",
              "      <td>26</td>\n",
              "      <td>3312</td>\n",
              "    </tr>\n",
              "    <tr>\n",
              "      <th>top</th>\n",
              "      <td>495eafd7-46ba-4d11-887b-5e8aa24bc24e</td>\n",
              "      <td>Campaign 2 - Landing Page</td>\n",
              "      <td>2021-04-07 06:56:35</td>\n",
              "    </tr>\n",
              "    <tr>\n",
              "      <th>freq</th>\n",
              "      <td>44</td>\n",
              "      <td>719</td>\n",
              "      <td>3</td>\n",
              "    </tr>\n",
              "    <tr>\n",
              "      <th>first</th>\n",
              "      <td>NaN</td>\n",
              "      <td>NaN</td>\n",
              "      <td>2021-03-10 04:17:25</td>\n",
              "    </tr>\n",
              "    <tr>\n",
              "      <th>last</th>\n",
              "      <td>NaN</td>\n",
              "      <td>NaN</td>\n",
              "      <td>2021-04-11 23:46:22</td>\n",
              "    </tr>\n",
              "  </tbody>\n",
              "</table>\n",
              "</div>"
            ],
            "text/plain": [
              "                                      userId  ...                 time\n",
              "count                                   3328  ...                 3328\n",
              "unique                                  1049  ...                 3312\n",
              "top     495eafd7-46ba-4d11-887b-5e8aa24bc24e  ...  2021-04-07 06:56:35\n",
              "freq                                      44  ...                    3\n",
              "first                                    NaN  ...  2021-03-10 04:17:25\n",
              "last                                     NaN  ...  2021-04-11 23:46:22\n",
              "\n",
              "[6 rows x 3 columns]"
            ]
          },
          "metadata": {
            "tags": []
          },
          "execution_count": 617
        }
      ]
    },
    {
      "cell_type": "code",
      "metadata": {
        "colab": {
          "base_uri": "https://localhost:8080/",
          "height": 289
        },
        "id": "lbOvKjglKgny",
        "outputId": "0d90a78d-4498-43ba-f0e6-5fd9093f23ed"
      },
      "source": [
        "events.describe()"
      ],
      "id": "lbOvKjglKgny",
      "execution_count": 618,
      "outputs": [
        {
          "output_type": "stream",
          "text": [
            "/usr/local/lib/python3.7/dist-packages/ipykernel_launcher.py:1: FutureWarning: Treating datetime data as categorical rather than numeric in `.describe` is deprecated and will be removed in a future version of pandas. Specify `datetime_is_numeric=True` to silence this warning and adopt the future behavior now.\n",
            "  \"\"\"Entry point for launching an IPython kernel.\n"
          ],
          "name": "stderr"
        },
        {
          "output_type": "execute_result",
          "data": {
            "text/html": [
              "<div>\n",
              "<style scoped>\n",
              "    .dataframe tbody tr th:only-of-type {\n",
              "        vertical-align: middle;\n",
              "    }\n",
              "\n",
              "    .dataframe tbody tr th {\n",
              "        vertical-align: top;\n",
              "    }\n",
              "\n",
              "    .dataframe thead th {\n",
              "        text-align: right;\n",
              "    }\n",
              "</style>\n",
              "<table border=\"1\" class=\"dataframe\">\n",
              "  <thead>\n",
              "    <tr style=\"text-align: right;\">\n",
              "      <th></th>\n",
              "      <th>userId</th>\n",
              "      <th>event</th>\n",
              "      <th>time</th>\n",
              "    </tr>\n",
              "  </thead>\n",
              "  <tbody>\n",
              "    <tr>\n",
              "      <th>count</th>\n",
              "      <td>3040</td>\n",
              "      <td>3040</td>\n",
              "      <td>3040</td>\n",
              "    </tr>\n",
              "    <tr>\n",
              "      <th>unique</th>\n",
              "      <td>542</td>\n",
              "      <td>44</td>\n",
              "      <td>3040</td>\n",
              "    </tr>\n",
              "    <tr>\n",
              "      <th>top</th>\n",
              "      <td>82fa23d4-deae-4bf9-8e3c-a9da17fbda1a</td>\n",
              "      <td>Menu: Services</td>\n",
              "      <td>2021-03-20 02:36:45.879000</td>\n",
              "    </tr>\n",
              "    <tr>\n",
              "      <th>freq</th>\n",
              "      <td>56</td>\n",
              "      <td>472</td>\n",
              "      <td>1</td>\n",
              "    </tr>\n",
              "    <tr>\n",
              "      <th>first</th>\n",
              "      <td>NaN</td>\n",
              "      <td>NaN</td>\n",
              "      <td>2021-03-10 04:17:29.023000</td>\n",
              "    </tr>\n",
              "    <tr>\n",
              "      <th>last</th>\n",
              "      <td>NaN</td>\n",
              "      <td>NaN</td>\n",
              "      <td>2021-03-31 10:16:15.885000</td>\n",
              "    </tr>\n",
              "  </tbody>\n",
              "</table>\n",
              "</div>"
            ],
            "text/plain": [
              "                                      userId  ...                        time\n",
              "count                                   3040  ...                        3040\n",
              "unique                                   542  ...                        3040\n",
              "top     82fa23d4-deae-4bf9-8e3c-a9da17fbda1a  ...  2021-03-20 02:36:45.879000\n",
              "freq                                      56  ...                           1\n",
              "first                                    NaN  ...  2021-03-10 04:17:29.023000\n",
              "last                                     NaN  ...  2021-03-31 10:16:15.885000\n",
              "\n",
              "[6 rows x 3 columns]"
            ]
          },
          "metadata": {
            "tags": []
          },
          "execution_count": 618
        }
      ]
    },
    {
      "cell_type": "markdown",
      "metadata": {
        "id": "jGD9qI6oKlZd"
      },
      "source": [
        "# Data Visulisation and analysis"
      ],
      "id": "jGD9qI6oKlZd"
    },
    {
      "cell_type": "code",
      "metadata": {
        "colab": {
          "base_uri": "https://localhost:8080/",
          "height": 573
        },
        "id": "ynoLvPjj5um9",
        "outputId": "c36a967e-1dc4-4646-b35b-59acf3201be6"
      },
      "source": [
        "plt.figure(figsize = (12,6))\n",
        "ax = pages.page.value_counts()[:20].plot(kind = 'bar', color= 'green')\n",
        "ax.legend(['Page visits'])\n",
        "plt.xlabel(\"Pages\")\n",
        "plt.ylabel(\"No. of visits\")\n",
        "plt.title(\"Pages vs Number of visits\",fontsize =20, weight = 'bold')\n",
        "plt.savefig('Pages vs Number of visits')"
      ],
      "id": "ynoLvPjj5um9",
      "execution_count": 619,
      "outputs": [
        {
          "output_type": "display_data",
          "data": {
            "image/png": "[encoded data removed]",
            "text/plain": [
              "<Figure size 864x432 with 1 Axes>"
            ]
          },
          "metadata": {
            "tags": [],
            "needs_background": "light"
          }
        }
      ]
    },
    {
      "cell_type": "markdown",
      "metadata": {
        "id": "Y6_cxQ-IwKx_"
      },
      "source": [
        "From the above graph we can see that the Campaign 2 - Landing page had more visits as compared to the Campaign 1 - Landing Page.\n",
        "\n",
        "Campaign 1 needs to be checked - why are less people coming from this landing page as compared to the other landing page."
      ],
      "id": "Y6_cxQ-IwKx_"
    },
    {
      "cell_type": "code",
      "metadata": {
        "colab": {
          "base_uri": "https://localhost:8080/"
        },
        "id": "hvKfwMnbsMUw",
        "outputId": "ef9ed389-5d6b-4cdb-ab36-8e11709531d4"
      },
      "source": [
        "pages['page'].value_counts()"
      ],
      "id": "hvKfwMnbsMUw",
      "execution_count": 620,
      "outputs": [
        {
          "output_type": "execute_result",
          "data": {
            "text/plain": [
              "Campaign 2 - Landing Page            719\n",
              "Services Page                        473\n",
              "Campaign 1 - Landing Page            391\n",
              "Cleaning: Booking First Page         353\n",
              "Home Page                            301\n",
              "Error Page                           223\n",
              "Contact Us Page                      217\n",
              "Cooking: Booking First Page          104\n",
              "Cleaning: Learn More Page            101\n",
              "Cleaning: Booking Second Page         90\n",
              "Help Page                             59\n",
              "Cleaning: Booking Summary Page        58\n",
              "Cooking: Learn More Page              52\n",
              "Cleaning: Booking Successful Page     41\n",
              "Cooking: Booking Successful Page      29\n",
              "Ironing: Booking First Page           25\n",
              "Ironing: Learn More Page              16\n",
              "Cooking: Booking Second Page          15\n",
              "Join Us Page                          14\n",
              "Explore Videos Page                   13\n",
              "Cooking: Booking Summary Page         11\n",
              "Ironing: Booking Second Page           7\n",
              "FAQ Page                               5\n",
              "Watch Now Page                         4\n",
              "Ironing: Booking Summary Page          4\n",
              "Ironing: Booking Successful Page       3\n",
              "Name: page, dtype: int64"
            ]
          },
          "metadata": {
            "tags": []
          },
          "execution_count": 620
        }
      ]
    },
    {
      "cell_type": "markdown",
      "metadata": {
        "id": "3OIf2J5U11n3"
      },
      "source": [
        "We know that the booking is only possible if the user reaches the Booking Successful Page.\n",
        "\n",
        "- Cleaning: Booking Successful Page     41\n",
        "- Cooking: Booking Successful Page      29\n",
        "- Ironing: Booking Successful Page       3\n",
        "\n",
        "total number of bookings = \n",
        "49 + 29 + 3 = 73 bookings"
      ],
      "id": "3OIf2J5U11n3"
    },
    {
      "cell_type": "code",
      "metadata": {
        "colab": {
          "base_uri": "https://localhost:8080/"
        },
        "id": "Prx8IKB3vX0l",
        "outputId": "61d93c34-87c9-4187-99e6-e247bfb8af15"
      },
      "source": [
        "df = pages[\"time\"].max() - pages[\"time\"].min() #total time spent by the users on the platform\n",
        "df2 = events[\"time\"].max() - events[\"time\"].min() #total time spent by the users on the actions/steps\n",
        "\n",
        "df3 = df + df2\n",
        "print(df3)"
      ],
      "id": "Prx8IKB3vX0l",
      "execution_count": 621,
      "outputs": [
        {
          "output_type": "stream",
          "text": [
            "54 days 01:27:43.862000\n"
          ],
          "name": "stdout"
        }
      ]
    },
    {
      "cell_type": "code",
      "metadata": {
        "colab": {
          "base_uri": "https://localhost:8080/",
          "height": 411
        },
        "id": "dd6aaa09-5efc-4225-b412-5c7365bcfbff",
        "outputId": "fbbebb53-e14a-418c-f14d-7198dddbfba2"
      },
      "source": [
        "import re\n",
        "def validate_if_campaign(x): #Created a function in order to search for the campaigns in the page column\n",
        "    services = [\"ironing\",\"cleaning\",\"cooking\"]\n",
        "    for service in services:\n",
        "        if re.search(service, x, re.IGNORECASE):\n",
        "            return service\n",
        "    return \"other\"\n",
        "pages[\"services\"] = pages[\"page\"].apply(lambda x: validate_if_campaign(x)) #Created a new column for the 3 campiagn and others\n",
        "page_userids = pages[\"userId\"].unique().tolist()\n",
        "\n",
        "pages.sort_values(['time'], ascending=[True], inplace=True)\n",
        "pages_c = pages.copy()\n",
        "# page_gb = pages.groupby(['userId','time']).sum()\n",
        "spent_time = pages_c['time'] - pages_c['time'].shift(1)\n",
        "spent_time = list(spent_time[1:])+[None]\n",
        "pages_c[\"spent_time\"] = spent_time\n",
        "pages_c = pages_c[[\"services\",\"spent_time\"]]\n",
        "pages_c.groupby(['services']).sum()"
      ],
      "id": "dd6aaa09-5efc-4225-b412-5c7365bcfbff",
      "execution_count": 622,
      "outputs": [
        {
          "output_type": "stream",
          "text": [
            "/usr/local/lib/python3.7/dist-packages/ipykernel_launcher.py:8: SettingWithCopyWarning: \n",
            "A value is trying to be set on a copy of a slice from a DataFrame.\n",
            "Try using .loc[row_indexer,col_indexer] = value instead\n",
            "\n",
            "See the caveats in the documentation: https://pandas.pydata.org/pandas-docs/stable/user_guide/indexing.html#returning-a-view-versus-a-copy\n",
            "  \n",
            "/usr/local/lib/python3.7/dist-packages/ipykernel_launcher.py:11: SettingWithCopyWarning: \n",
            "A value is trying to be set on a copy of a slice from a DataFrame\n",
            "\n",
            "See the caveats in the documentation: https://pandas.pydata.org/pandas-docs/stable/user_guide/indexing.html#returning-a-view-versus-a-copy\n",
            "  # This is added back by InteractiveShellApp.init_path()\n"
          ],
          "name": "stderr"
        },
        {
          "output_type": "execute_result",
          "data": {
            "text/html": [
              "<div>\n",
              "<style scoped>\n",
              "    .dataframe tbody tr th:only-of-type {\n",
              "        vertical-align: middle;\n",
              "    }\n",
              "\n",
              "    .dataframe tbody tr th {\n",
              "        vertical-align: top;\n",
              "    }\n",
              "\n",
              "    .dataframe thead th {\n",
              "        text-align: right;\n",
              "    }\n",
              "</style>\n",
              "<table border=\"1\" class=\"dataframe\">\n",
              "  <thead>\n",
              "    <tr style=\"text-align: right;\">\n",
              "      <th></th>\n",
              "      <th>spent_time</th>\n",
              "    </tr>\n",
              "    <tr>\n",
              "      <th>services</th>\n",
              "      <th></th>\n",
              "    </tr>\n",
              "  </thead>\n",
              "  <tbody>\n",
              "    <tr>\n",
              "      <th>cleaning</th>\n",
              "      <td>4 days 06:09:44</td>\n",
              "    </tr>\n",
              "    <tr>\n",
              "      <th>cooking</th>\n",
              "      <td>1 days 15:11:47</td>\n",
              "    </tr>\n",
              "    <tr>\n",
              "      <th>ironing</th>\n",
              "      <td>4 days 11:02:11</td>\n",
              "    </tr>\n",
              "    <tr>\n",
              "      <th>other</th>\n",
              "      <td>22 days 11:05:15</td>\n",
              "    </tr>\n",
              "  </tbody>\n",
              "</table>\n",
              "</div>"
            ],
            "text/plain": [
              "               spent_time\n",
              "services                 \n",
              "cleaning  4 days 06:09:44\n",
              "cooking   1 days 15:11:47\n",
              "ironing   4 days 11:02:11\n",
              "other    22 days 11:05:15"
            ]
          },
          "metadata": {
            "tags": []
          },
          "execution_count": 622
        }
      ]
    },
    {
      "cell_type": "code",
      "metadata": {
        "colab": {
          "base_uri": "https://localhost:8080/",
          "height": 380
        },
        "id": "EtUbsCoNN-HH",
        "outputId": "e4cf5d4b-d15e-4b02-ad72-8e23538a1e7d"
      },
      "source": [
        "import re\n",
        "def validate_if_campaign(x): #Created a function in order to search for the campaigns in the page column\n",
        "    campaigns = [\"Campaign 2 - Landing Page\",\"Campaign 1 - Landing Page\"]\n",
        "    for campaign in campaigns:\n",
        "        if re.search(campaign, x, re.IGNORECASE):\n",
        "            return campaign\n",
        "    return \"other\"\n",
        "pages[\"campaigns\"] = pages[\"page\"].apply(lambda x: validate_if_campaign(x)) #Created a new column for the 3 campiagn and others\n",
        "page_userids = pages[\"userId\"].unique().tolist()\n",
        "\n",
        "pages.sort_values(['time'], ascending=[True], inplace=True)\n",
        "pages_c = pages.copy()\n",
        "# page_gb = pages.groupby(['userId','time']).sum()\n",
        "spent_time = pages_c['time'] - pages_c['time'].shift(1)\n",
        "spent_time = list(spent_time[1:])+[None]\n",
        "pages_c[\"spent_time\"] = spent_time\n",
        "pages_c = pages_c[[\"campaigns\",\"spent_time\"]]\n",
        "pages_c.groupby(['campaigns']).sum()"
      ],
      "id": "EtUbsCoNN-HH",
      "execution_count": 623,
      "outputs": [
        {
          "output_type": "stream",
          "text": [
            "/usr/local/lib/python3.7/dist-packages/ipykernel_launcher.py:8: SettingWithCopyWarning: \n",
            "A value is trying to be set on a copy of a slice from a DataFrame.\n",
            "Try using .loc[row_indexer,col_indexer] = value instead\n",
            "\n",
            "See the caveats in the documentation: https://pandas.pydata.org/pandas-docs/stable/user_guide/indexing.html#returning-a-view-versus-a-copy\n",
            "  \n",
            "/usr/local/lib/python3.7/dist-packages/ipykernel_launcher.py:11: SettingWithCopyWarning: \n",
            "A value is trying to be set on a copy of a slice from a DataFrame\n",
            "\n",
            "See the caveats in the documentation: https://pandas.pydata.org/pandas-docs/stable/user_guide/indexing.html#returning-a-view-versus-a-copy\n",
            "  # This is added back by InteractiveShellApp.init_path()\n"
          ],
          "name": "stderr"
        },
        {
          "output_type": "execute_result",
          "data": {
            "text/html": [
              "<div>\n",
              "<style scoped>\n",
              "    .dataframe tbody tr th:only-of-type {\n",
              "        vertical-align: middle;\n",
              "    }\n",
              "\n",
              "    .dataframe tbody tr th {\n",
              "        vertical-align: top;\n",
              "    }\n",
              "\n",
              "    .dataframe thead th {\n",
              "        text-align: right;\n",
              "    }\n",
              "</style>\n",
              "<table border=\"1\" class=\"dataframe\">\n",
              "  <thead>\n",
              "    <tr style=\"text-align: right;\">\n",
              "      <th></th>\n",
              "      <th>spent_time</th>\n",
              "    </tr>\n",
              "    <tr>\n",
              "      <th>campaigns</th>\n",
              "      <th></th>\n",
              "    </tr>\n",
              "  </thead>\n",
              "  <tbody>\n",
              "    <tr>\n",
              "      <th>Campaign 1 - Landing Page</th>\n",
              "      <td>2 days 03:11:15</td>\n",
              "    </tr>\n",
              "    <tr>\n",
              "      <th>Campaign 2 - Landing Page</th>\n",
              "      <td>4 days 10:50:34</td>\n",
              "    </tr>\n",
              "    <tr>\n",
              "      <th>other</th>\n",
              "      <td>26 days 05:27:08</td>\n",
              "    </tr>\n",
              "  </tbody>\n",
              "</table>\n",
              "</div>"
            ],
            "text/plain": [
              "                                spent_time\n",
              "campaigns                                 \n",
              "Campaign 1 - Landing Page  2 days 03:11:15\n",
              "Campaign 2 - Landing Page  4 days 10:50:34\n",
              "other                     26 days 05:27:08"
            ]
          },
          "metadata": {
            "tags": []
          },
          "execution_count": 623
        }
      ]
    },
    {
      "cell_type": "markdown",
      "metadata": {
        "id": "3YB2zqYWuq1P"
      },
      "source": [
        "Campaign 2 has the longest campaign time as compared to Campaign 1 - Landing page."
      ],
      "id": "3YB2zqYWuq1P"
    },
    {
      "cell_type": "code",
      "metadata": {
        "colab": {
          "base_uri": "https://localhost:8080/",
          "height": 204
        },
        "id": "Gi4y73OmfJoc",
        "outputId": "da4b4011-882c-4132-8902-9547b826028c"
      },
      "source": [
        "events.head()"
      ],
      "id": "Gi4y73OmfJoc",
      "execution_count": 624,
      "outputs": [
        {
          "output_type": "execute_result",
          "data": {
            "text/html": [
              "<div>\n",
              "<style scoped>\n",
              "    .dataframe tbody tr th:only-of-type {\n",
              "        vertical-align: middle;\n",
              "    }\n",
              "\n",
              "    .dataframe tbody tr th {\n",
              "        vertical-align: top;\n",
              "    }\n",
              "\n",
              "    .dataframe thead th {\n",
              "        text-align: right;\n",
              "    }\n",
              "</style>\n",
              "<table border=\"1\" class=\"dataframe\">\n",
              "  <thead>\n",
              "    <tr style=\"text-align: right;\">\n",
              "      <th></th>\n",
              "      <th>userId</th>\n",
              "      <th>event</th>\n",
              "      <th>time</th>\n",
              "    </tr>\n",
              "  </thead>\n",
              "  <tbody>\n",
              "    <tr>\n",
              "      <th>0</th>\n",
              "      <td>2acefd2c-8a82-4e1d-8aff-044522455633</td>\n",
              "      <td>Learn More</td>\n",
              "      <td>2021-03-10 04:17:29.023</td>\n",
              "    </tr>\n",
              "    <tr>\n",
              "      <th>1</th>\n",
              "      <td>58691bae-d6ef-4f18-be62-fe071baddf0b</td>\n",
              "      <td>Share in WhatsApp</td>\n",
              "      <td>2021-03-10 04:27:46.571</td>\n",
              "    </tr>\n",
              "    <tr>\n",
              "      <th>2</th>\n",
              "      <td>58691bae-d6ef-4f18-be62-fe071baddf0b</td>\n",
              "      <td>Cleaning: Book Now</td>\n",
              "      <td>2021-03-10 04:30:49.181</td>\n",
              "    </tr>\n",
              "    <tr>\n",
              "      <th>3</th>\n",
              "      <td>58691bae-d6ef-4f18-be62-fe071baddf0b</td>\n",
              "      <td>Menu: Home</td>\n",
              "      <td>2021-03-10 04:31:11.519</td>\n",
              "    </tr>\n",
              "    <tr>\n",
              "      <th>4</th>\n",
              "      <td>58691bae-d6ef-4f18-be62-fe071baddf0b</td>\n",
              "      <td>Address Input</td>\n",
              "      <td>2021-03-10 04:33:46.424</td>\n",
              "    </tr>\n",
              "  </tbody>\n",
              "</table>\n",
              "</div>"
            ],
            "text/plain": [
              "                                 userId  ...                    time\n",
              "0  2acefd2c-8a82-4e1d-8aff-044522455633  ... 2021-03-10 04:17:29.023\n",
              "1  58691bae-d6ef-4f18-be62-fe071baddf0b  ... 2021-03-10 04:27:46.571\n",
              "2  58691bae-d6ef-4f18-be62-fe071baddf0b  ... 2021-03-10 04:30:49.181\n",
              "3  58691bae-d6ef-4f18-be62-fe071baddf0b  ... 2021-03-10 04:31:11.519\n",
              "4  58691bae-d6ef-4f18-be62-fe071baddf0b  ... 2021-03-10 04:33:46.424\n",
              "\n",
              "[5 rows x 3 columns]"
            ]
          },
          "metadata": {
            "tags": []
          },
          "execution_count": 624
        }
      ]
    },
    {
      "cell_type": "code",
      "metadata": {
        "colab": {
          "base_uri": "https://localhost:8080/"
        },
        "id": "V5FldlY4k0EK",
        "outputId": "8b7a0e6e-8575-4c6f-8a92-e66b057dbdd7"
      },
      "source": [
        "events.event.unique()"
      ],
      "id": "V5FldlY4k0EK",
      "execution_count": 625,
      "outputs": [
        {
          "output_type": "execute_result",
          "data": {
            "text/plain": [
              "array(['Learn More', 'Share in WhatsApp', 'Cleaning: Book Now',\n",
              "       'Menu: Home', 'Address Input', 'Menu: Services',\n",
              "       'Select Region: Lahore', 'See Available Slots',\n",
              "       'Select Helper: Female', 'Select: 3 hours', 'Menu: Contact Us',\n",
              "       'Start at: 11:00 AM', 'Booking Summary', 'Start at: 10:00 AM',\n",
              "       'Enter Phone Number', 'Complete Booking', 'Back',\n",
              "       'Select Helper: Male', 'Ironing: Book Now', 'Get Help',\n",
              "       'Select: 2 hours', 'Cooking: Book Now', 'Start at: 01:00 PM',\n",
              "       'Start at: 03:00 PM', 'Start at: 01:30 PM', 'Explore Videos',\n",
              "       'Watch Now', 'FAQs', 'Select: 4 hours', 'Select Region: Islamabad',\n",
              "       'Join Us', 'Start at: 12:00 PM', 'Start at: 02:00 PM',\n",
              "       'Start at: 02:30 PM', 'Select: 6 hours', 'Select: 5 hours',\n",
              "       'Select: 7 hours', 'Start at: 11:30 AM', 'Start at: 04:00 PM',\n",
              "       'Start at: 10:30 AM', 'Connect on Messenger',\n",
              "       'Select Region: Rawalpindi', 'Select: 8 hours',\n",
              "       'Start at: 03:30 PM'], dtype=object)"
            ]
          },
          "metadata": {
            "tags": []
          },
          "execution_count": 625
        }
      ]
    },
    {
      "cell_type": "code",
      "metadata": {
        "colab": {
          "base_uri": "https://localhost:8080/"
        },
        "id": "oUqzL5M6lrkW",
        "outputId": "8866a4ca-9ec8-4a98-bb04-d0924e247d9d"
      },
      "source": [
        "events['event'] = events['event'].astype(str) #converting event column into string"
      ],
      "id": "oUqzL5M6lrkW",
      "execution_count": 626,
      "outputs": [
        {
          "output_type": "stream",
          "text": [
            "/usr/local/lib/python3.7/dist-packages/ipykernel_launcher.py:1: SettingWithCopyWarning: \n",
            "A value is trying to be set on a copy of a slice from a DataFrame.\n",
            "Try using .loc[row_indexer,col_indexer] = value instead\n",
            "\n",
            "See the caveats in the documentation: https://pandas.pydata.org/pandas-docs/stable/user_guide/indexing.html#returning-a-view-versus-a-copy\n",
            "  \"\"\"Entry point for launching an IPython kernel.\n"
          ],
          "name": "stderr"
        }
      ]
    },
    {
      "cell_type": "code",
      "metadata": {
        "colab": {
          "base_uri": "https://localhost:8080/",
          "height": 1000
        },
        "id": "-33NWkrafGOm",
        "outputId": "11adfb38-abc0-4377-9143-e61151ce6618"
      },
      "source": [
        "import re\n",
        "def validate_if_spef_event(x): #function to check the specific event\n",
        "    spef_event = ['Learn More', 'Share in WhatsApp', 'Cleaning: Book Now',\n",
        "       'Menu: Home', 'Address Input', 'Menu: Services',\n",
        "       'Select Region: Lahore', 'See Available Slots',\n",
        "       'Select Helper: Female', 'Select: 3 hours', 'Menu: Contact Us',\n",
        "       'Start at: 11:00 AM', 'Booking Summary', 'Start at: 10:00 AM',\n",
        "       'Enter Phone Number', 'Complete Booking', 'Back',\n",
        "       'Select Helper: Male', 'Ironing: Book Now', 'Get Help',\n",
        "       'Select: 2 hours', 'Cooking: Book Now', 'Start at: 01:00 PM',\n",
        "       'Start at: 03:00 PM', 'Start at: 01:30 PM', 'Explore Videos',\n",
        "       'Watch Now', 'FAQs', 'Select: 4 hours', 'Select Region: Islamabad',\n",
        "       'Join Us', 'Start at: 12:00 PM', 'Start at: 02:00 PM',\n",
        "       'Start at: 02:30 PM', 'Select: 6 hours', 'Select: 5 hours',\n",
        "       'Select: 7 hours', 'Start at: 11:30 AM', 'Start at: 04:00 PM',\n",
        "       'Start at: 10:30 AM', 'Connect on Messenger',\n",
        "       'Select Region: Rawalpindi', 'Select: 8 hours', 'nan',\n",
        "       'Start at: 03:30 PM']\n",
        "    for event in spef_event:\n",
        "        if re.search(event, x, re.IGNORECASE):\n",
        "            return event\n",
        "    return \"other\"\n",
        "events[\"spef_event\"] = events[\"event\"].apply(lambda x: validate_if_spef_event(x))\n",
        "event_userids = events[\"userId\"].unique().tolist()\n",
        "\n",
        "events.sort_values(['time'], ascending=[True], inplace=True)\n",
        "events_c = events.copy()\n",
        "# page_gb = pages.groupby(['userId','time']).sum()\n",
        "spent_time = events_c['time'] - events_c['time'].shift(1)\n",
        "spent_time = list(spent_time[1:])+[None]\n",
        "events_c[\"spent_time\"] = spent_time\n",
        "events_c = events_c[[\"spef_event\",\"spent_time\"]]\n",
        "events_c.groupby(['spef_event']).sum()"
      ],
      "id": "-33NWkrafGOm",
      "execution_count": 627,
      "outputs": [
        {
          "output_type": "stream",
          "text": [
            "/usr/local/lib/python3.7/dist-packages/ipykernel_launcher.py:23: SettingWithCopyWarning: \n",
            "A value is trying to be set on a copy of a slice from a DataFrame.\n",
            "Try using .loc[row_indexer,col_indexer] = value instead\n",
            "\n",
            "See the caveats in the documentation: https://pandas.pydata.org/pandas-docs/stable/user_guide/indexing.html#returning-a-view-versus-a-copy\n",
            "/usr/local/lib/python3.7/dist-packages/ipykernel_launcher.py:26: SettingWithCopyWarning: \n",
            "A value is trying to be set on a copy of a slice from a DataFrame\n",
            "\n",
            "See the caveats in the documentation: https://pandas.pydata.org/pandas-docs/stable/user_guide/indexing.html#returning-a-view-versus-a-copy\n"
          ],
          "name": "stderr"
        },
        {
          "output_type": "execute_result",
          "data": {
            "text/html": [
              "<div>\n",
              "<style scoped>\n",
              "    .dataframe tbody tr th:only-of-type {\n",
              "        vertical-align: middle;\n",
              "    }\n",
              "\n",
              "    .dataframe tbody tr th {\n",
              "        vertical-align: top;\n",
              "    }\n",
              "\n",
              "    .dataframe thead th {\n",
              "        text-align: right;\n",
              "    }\n",
              "</style>\n",
              "<table border=\"1\" class=\"dataframe\">\n",
              "  <thead>\n",
              "    <tr style=\"text-align: right;\">\n",
              "      <th></th>\n",
              "      <th>spent_time</th>\n",
              "    </tr>\n",
              "    <tr>\n",
              "      <th>spef_event</th>\n",
              "      <th></th>\n",
              "    </tr>\n",
              "  </thead>\n",
              "  <tbody>\n",
              "    <tr>\n",
              "      <th>Address Input</th>\n",
              "      <td>0 days 08:41:33.424000</td>\n",
              "    </tr>\n",
              "    <tr>\n",
              "      <th>Back</th>\n",
              "      <td>0 days 07:25:49.265000</td>\n",
              "    </tr>\n",
              "    <tr>\n",
              "      <th>Booking Summary</th>\n",
              "      <td>0 days 05:55:21.595000</td>\n",
              "    </tr>\n",
              "    <tr>\n",
              "      <th>Cleaning: Book Now</th>\n",
              "      <td>0 days 19:05:21.657000</td>\n",
              "    </tr>\n",
              "    <tr>\n",
              "      <th>Complete Booking</th>\n",
              "      <td>1 days 21:42:10.466000</td>\n",
              "    </tr>\n",
              "    <tr>\n",
              "      <th>Connect on Messenger</th>\n",
              "      <td>0 days 16:00:46.945000</td>\n",
              "    </tr>\n",
              "    <tr>\n",
              "      <th>Cooking: Book Now</th>\n",
              "      <td>0 days 19:11:32.838000</td>\n",
              "    </tr>\n",
              "    <tr>\n",
              "      <th>Enter Phone Number</th>\n",
              "      <td>0 days 02:52:09.645000</td>\n",
              "    </tr>\n",
              "    <tr>\n",
              "      <th>Explore Videos</th>\n",
              "      <td>0 days 01:33:53.710000</td>\n",
              "    </tr>\n",
              "    <tr>\n",
              "      <th>FAQs</th>\n",
              "      <td>0 days 04:07:02.687000</td>\n",
              "    </tr>\n",
              "    <tr>\n",
              "      <th>Get Help</th>\n",
              "      <td>2 days 05:32:41.645000</td>\n",
              "    </tr>\n",
              "    <tr>\n",
              "      <th>Ironing: Book Now</th>\n",
              "      <td>0 days 03:10:35.052000</td>\n",
              "    </tr>\n",
              "    <tr>\n",
              "      <th>Join Us</th>\n",
              "      <td>0 days 05:23:03.055000</td>\n",
              "    </tr>\n",
              "    <tr>\n",
              "      <th>Learn More</th>\n",
              "      <td>3 days 12:30:35.728000</td>\n",
              "    </tr>\n",
              "    <tr>\n",
              "      <th>Menu: Contact Us</th>\n",
              "      <td>1 days 16:07:31.109000</td>\n",
              "    </tr>\n",
              "    <tr>\n",
              "      <th>Menu: Home</th>\n",
              "      <td>2 days 03:08:17.604000</td>\n",
              "    </tr>\n",
              "    <tr>\n",
              "      <th>Menu: Services</th>\n",
              "      <td>3 days 12:48:16.177000</td>\n",
              "    </tr>\n",
              "    <tr>\n",
              "      <th>See Available Slots</th>\n",
              "      <td>0 days 00:06:15.169000</td>\n",
              "    </tr>\n",
              "    <tr>\n",
              "      <th>Select Helper: Female</th>\n",
              "      <td>0 days 14:00:13.177000</td>\n",
              "    </tr>\n",
              "    <tr>\n",
              "      <th>Select Helper: Male</th>\n",
              "      <td>0 days 03:54:32.353000</td>\n",
              "    </tr>\n",
              "    <tr>\n",
              "      <th>Select Region: Islamabad</th>\n",
              "      <td>0 days 00:08:27.247000</td>\n",
              "    </tr>\n",
              "    <tr>\n",
              "      <th>Select Region: Lahore</th>\n",
              "      <td>0 days 06:36:46.002000</td>\n",
              "    </tr>\n",
              "    <tr>\n",
              "      <th>Select Region: Rawalpindi</th>\n",
              "      <td>0 days 00:02:26.170000</td>\n",
              "    </tr>\n",
              "    <tr>\n",
              "      <th>Select: 2 hours</th>\n",
              "      <td>0 days 03:21:35.507000</td>\n",
              "    </tr>\n",
              "    <tr>\n",
              "      <th>Select: 3 hours</th>\n",
              "      <td>0 days 00:40:20.003000</td>\n",
              "    </tr>\n",
              "    <tr>\n",
              "      <th>Select: 4 hours</th>\n",
              "      <td>0 days 00:01:23.764000</td>\n",
              "    </tr>\n",
              "    <tr>\n",
              "      <th>Select: 5 hours</th>\n",
              "      <td>0 days 00:07:48.243000</td>\n",
              "    </tr>\n",
              "    <tr>\n",
              "      <th>Select: 6 hours</th>\n",
              "      <td>0 days 00:00:09.056000</td>\n",
              "    </tr>\n",
              "    <tr>\n",
              "      <th>Select: 7 hours</th>\n",
              "      <td>0 days 00:00:38.613000</td>\n",
              "    </tr>\n",
              "    <tr>\n",
              "      <th>Select: 8 hours</th>\n",
              "      <td>0 days 00:00:10.720000</td>\n",
              "    </tr>\n",
              "    <tr>\n",
              "      <th>Share in WhatsApp</th>\n",
              "      <td>1 days 02:26:50.352000</td>\n",
              "    </tr>\n",
              "    <tr>\n",
              "      <th>Start at: 01:00 PM</th>\n",
              "      <td>0 days 00:00:37.894000</td>\n",
              "    </tr>\n",
              "    <tr>\n",
              "      <th>Start at: 01:30 PM</th>\n",
              "      <td>0 days 00:01:58.312000</td>\n",
              "    </tr>\n",
              "    <tr>\n",
              "      <th>Start at: 02:00 PM</th>\n",
              "      <td>0 days 00:00:44.542000</td>\n",
              "    </tr>\n",
              "    <tr>\n",
              "      <th>Start at: 02:30 PM</th>\n",
              "      <td>0 days 00:00:36.160000</td>\n",
              "    </tr>\n",
              "    <tr>\n",
              "      <th>Start at: 03:00 PM</th>\n",
              "      <td>0 days 00:00:29.107000</td>\n",
              "    </tr>\n",
              "    <tr>\n",
              "      <th>Start at: 03:30 PM</th>\n",
              "      <td>0 days 00:00:07.161000</td>\n",
              "    </tr>\n",
              "    <tr>\n",
              "      <th>Start at: 04:00 PM</th>\n",
              "      <td>0 days 00:00:35.549000</td>\n",
              "    </tr>\n",
              "    <tr>\n",
              "      <th>Start at: 10:00 AM</th>\n",
              "      <td>0 days 00:40:37.036000</td>\n",
              "    </tr>\n",
              "    <tr>\n",
              "      <th>Start at: 10:30 AM</th>\n",
              "      <td>0 days 00:00:20.969000</td>\n",
              "    </tr>\n",
              "    <tr>\n",
              "      <th>Start at: 11:00 AM</th>\n",
              "      <td>0 days 00:01:18.614000</td>\n",
              "    </tr>\n",
              "    <tr>\n",
              "      <th>Start at: 11:30 AM</th>\n",
              "      <td>0 days 00:00:02.209000</td>\n",
              "    </tr>\n",
              "    <tr>\n",
              "      <th>Start at: 12:00 PM</th>\n",
              "      <td>0 days 00:10:34.581000</td>\n",
              "    </tr>\n",
              "    <tr>\n",
              "      <th>Watch Now</th>\n",
              "      <td>0 days 00:16:25.750000</td>\n",
              "    </tr>\n",
              "  </tbody>\n",
              "</table>\n",
              "</div>"
            ],
            "text/plain": [
              "                                      spent_time\n",
              "spef_event                                      \n",
              "Address Input             0 days 08:41:33.424000\n",
              "Back                      0 days 07:25:49.265000\n",
              "Booking Summary           0 days 05:55:21.595000\n",
              "Cleaning: Book Now        0 days 19:05:21.657000\n",
              "Complete Booking          1 days 21:42:10.466000\n",
              "Connect on Messenger      0 days 16:00:46.945000\n",
              "Cooking: Book Now         0 days 19:11:32.838000\n",
              "Enter Phone Number        0 days 02:52:09.645000\n",
              "Explore Videos            0 days 01:33:53.710000\n",
              "FAQs                      0 days 04:07:02.687000\n",
              "Get Help                  2 days 05:32:41.645000\n",
              "Ironing: Book Now         0 days 03:10:35.052000\n",
              "Join Us                   0 days 05:23:03.055000\n",
              "Learn More                3 days 12:30:35.728000\n",
              "Menu: Contact Us          1 days 16:07:31.109000\n",
              "Menu: Home                2 days 03:08:17.604000\n",
              "Menu: Services            3 days 12:48:16.177000\n",
              "See Available Slots       0 days 00:06:15.169000\n",
              "Select Helper: Female     0 days 14:00:13.177000\n",
              "Select Helper: Male       0 days 03:54:32.353000\n",
              "Select Region: Islamabad  0 days 00:08:27.247000\n",
              "Select Region: Lahore     0 days 06:36:46.002000\n",
              "Select Region: Rawalpindi 0 days 00:02:26.170000\n",
              "Select: 2 hours           0 days 03:21:35.507000\n",
              "Select: 3 hours           0 days 00:40:20.003000\n",
              "Select: 4 hours           0 days 00:01:23.764000\n",
              "Select: 5 hours           0 days 00:07:48.243000\n",
              "Select: 6 hours           0 days 00:00:09.056000\n",
              "Select: 7 hours           0 days 00:00:38.613000\n",
              "Select: 8 hours           0 days 00:00:10.720000\n",
              "Share in WhatsApp         1 days 02:26:50.352000\n",
              "Start at: 01:00 PM        0 days 00:00:37.894000\n",
              "Start at: 01:30 PM        0 days 00:01:58.312000\n",
              "Start at: 02:00 PM        0 days 00:00:44.542000\n",
              "Start at: 02:30 PM        0 days 00:00:36.160000\n",
              "Start at: 03:00 PM        0 days 00:00:29.107000\n",
              "Start at: 03:30 PM        0 days 00:00:07.161000\n",
              "Start at: 04:00 PM        0 days 00:00:35.549000\n",
              "Start at: 10:00 AM        0 days 00:40:37.036000\n",
              "Start at: 10:30 AM        0 days 00:00:20.969000\n",
              "Start at: 11:00 AM        0 days 00:01:18.614000\n",
              "Start at: 11:30 AM        0 days 00:00:02.209000\n",
              "Start at: 12:00 PM        0 days 00:10:34.581000\n",
              "Watch Now                 0 days 00:16:25.750000"
            ]
          },
          "metadata": {
            "tags": []
          },
          "execution_count": 627
        }
      ]
    },
    {
      "cell_type": "code",
      "metadata": {
        "colab": {
          "base_uri": "https://localhost:8080/",
          "height": 1000
        },
        "id": "987d914e-7688-471c-b22c-8a519e4b270d",
        "outputId": "2ca31613-a020-4adc-c062-e89b14b96fa2"
      },
      "source": [
        "events_c[[\"spef_event\",\"spent_time\"]].groupby([\"spef_event\"]).sum().sort_values(['spent_time'], ascending=[True]) #Arranging in ascending order"
      ],
      "id": "987d914e-7688-471c-b22c-8a519e4b270d",
      "execution_count": 628,
      "outputs": [
        {
          "output_type": "execute_result",
          "data": {
            "text/html": [
              "<div>\n",
              "<style scoped>\n",
              "    .dataframe tbody tr th:only-of-type {\n",
              "        vertical-align: middle;\n",
              "    }\n",
              "\n",
              "    .dataframe tbody tr th {\n",
              "        vertical-align: top;\n",
              "    }\n",
              "\n",
              "    .dataframe thead th {\n",
              "        text-align: right;\n",
              "    }\n",
              "</style>\n",
              "<table border=\"1\" class=\"dataframe\">\n",
              "  <thead>\n",
              "    <tr style=\"text-align: right;\">\n",
              "      <th></th>\n",
              "      <th>spent_time</th>\n",
              "    </tr>\n",
              "    <tr>\n",
              "      <th>spef_event</th>\n",
              "      <th></th>\n",
              "    </tr>\n",
              "  </thead>\n",
              "  <tbody>\n",
              "    <tr>\n",
              "      <th>Start at: 11:30 AM</th>\n",
              "      <td>0 days 00:00:02.209000</td>\n",
              "    </tr>\n",
              "    <tr>\n",
              "      <th>Start at: 03:30 PM</th>\n",
              "      <td>0 days 00:00:07.161000</td>\n",
              "    </tr>\n",
              "    <tr>\n",
              "      <th>Select: 6 hours</th>\n",
              "      <td>0 days 00:00:09.056000</td>\n",
              "    </tr>\n",
              "    <tr>\n",
              "      <th>Select: 8 hours</th>\n",
              "      <td>0 days 00:00:10.720000</td>\n",
              "    </tr>\n",
              "    <tr>\n",
              "      <th>Start at: 10:30 AM</th>\n",
              "      <td>0 days 00:00:20.969000</td>\n",
              "    </tr>\n",
              "    <tr>\n",
              "      <th>Start at: 03:00 PM</th>\n",
              "      <td>0 days 00:00:29.107000</td>\n",
              "    </tr>\n",
              "    <tr>\n",
              "      <th>Start at: 04:00 PM</th>\n",
              "      <td>0 days 00:00:35.549000</td>\n",
              "    </tr>\n",
              "    <tr>\n",
              "      <th>Start at: 02:30 PM</th>\n",
              "      <td>0 days 00:00:36.160000</td>\n",
              "    </tr>\n",
              "    <tr>\n",
              "      <th>Start at: 01:00 PM</th>\n",
              "      <td>0 days 00:00:37.894000</td>\n",
              "    </tr>\n",
              "    <tr>\n",
              "      <th>Select: 7 hours</th>\n",
              "      <td>0 days 00:00:38.613000</td>\n",
              "    </tr>\n",
              "    <tr>\n",
              "      <th>Start at: 02:00 PM</th>\n",
              "      <td>0 days 00:00:44.542000</td>\n",
              "    </tr>\n",
              "    <tr>\n",
              "      <th>Start at: 11:00 AM</th>\n",
              "      <td>0 days 00:01:18.614000</td>\n",
              "    </tr>\n",
              "    <tr>\n",
              "      <th>Select: 4 hours</th>\n",
              "      <td>0 days 00:01:23.764000</td>\n",
              "    </tr>\n",
              "    <tr>\n",
              "      <th>Start at: 01:30 PM</th>\n",
              "      <td>0 days 00:01:58.312000</td>\n",
              "    </tr>\n",
              "    <tr>\n",
              "      <th>Select Region: Rawalpindi</th>\n",
              "      <td>0 days 00:02:26.170000</td>\n",
              "    </tr>\n",
              "    <tr>\n",
              "      <th>See Available Slots</th>\n",
              "      <td>0 days 00:06:15.169000</td>\n",
              "    </tr>\n",
              "    <tr>\n",
              "      <th>Select: 5 hours</th>\n",
              "      <td>0 days 00:07:48.243000</td>\n",
              "    </tr>\n",
              "    <tr>\n",
              "      <th>Select Region: Islamabad</th>\n",
              "      <td>0 days 00:08:27.247000</td>\n",
              "    </tr>\n",
              "    <tr>\n",
              "      <th>Start at: 12:00 PM</th>\n",
              "      <td>0 days 00:10:34.581000</td>\n",
              "    </tr>\n",
              "    <tr>\n",
              "      <th>Watch Now</th>\n",
              "      <td>0 days 00:16:25.750000</td>\n",
              "    </tr>\n",
              "    <tr>\n",
              "      <th>Select: 3 hours</th>\n",
              "      <td>0 days 00:40:20.003000</td>\n",
              "    </tr>\n",
              "    <tr>\n",
              "      <th>Start at: 10:00 AM</th>\n",
              "      <td>0 days 00:40:37.036000</td>\n",
              "    </tr>\n",
              "    <tr>\n",
              "      <th>Explore Videos</th>\n",
              "      <td>0 days 01:33:53.710000</td>\n",
              "    </tr>\n",
              "    <tr>\n",
              "      <th>Enter Phone Number</th>\n",
              "      <td>0 days 02:52:09.645000</td>\n",
              "    </tr>\n",
              "    <tr>\n",
              "      <th>Ironing: Book Now</th>\n",
              "      <td>0 days 03:10:35.052000</td>\n",
              "    </tr>\n",
              "    <tr>\n",
              "      <th>Select: 2 hours</th>\n",
              "      <td>0 days 03:21:35.507000</td>\n",
              "    </tr>\n",
              "    <tr>\n",
              "      <th>Select Helper: Male</th>\n",
              "      <td>0 days 03:54:32.353000</td>\n",
              "    </tr>\n",
              "    <tr>\n",
              "      <th>FAQs</th>\n",
              "      <td>0 days 04:07:02.687000</td>\n",
              "    </tr>\n",
              "    <tr>\n",
              "      <th>Join Us</th>\n",
              "      <td>0 days 05:23:03.055000</td>\n",
              "    </tr>\n",
              "    <tr>\n",
              "      <th>Booking Summary</th>\n",
              "      <td>0 days 05:55:21.595000</td>\n",
              "    </tr>\n",
              "    <tr>\n",
              "      <th>Select Region: Lahore</th>\n",
              "      <td>0 days 06:36:46.002000</td>\n",
              "    </tr>\n",
              "    <tr>\n",
              "      <th>Back</th>\n",
              "      <td>0 days 07:25:49.265000</td>\n",
              "    </tr>\n",
              "    <tr>\n",
              "      <th>Address Input</th>\n",
              "      <td>0 days 08:41:33.424000</td>\n",
              "    </tr>\n",
              "    <tr>\n",
              "      <th>Select Helper: Female</th>\n",
              "      <td>0 days 14:00:13.177000</td>\n",
              "    </tr>\n",
              "    <tr>\n",
              "      <th>Connect on Messenger</th>\n",
              "      <td>0 days 16:00:46.945000</td>\n",
              "    </tr>\n",
              "    <tr>\n",
              "      <th>Cleaning: Book Now</th>\n",
              "      <td>0 days 19:05:21.657000</td>\n",
              "    </tr>\n",
              "    <tr>\n",
              "      <th>Cooking: Book Now</th>\n",
              "      <td>0 days 19:11:32.838000</td>\n",
              "    </tr>\n",
              "    <tr>\n",
              "      <th>Share in WhatsApp</th>\n",
              "      <td>1 days 02:26:50.352000</td>\n",
              "    </tr>\n",
              "    <tr>\n",
              "      <th>Menu: Contact Us</th>\n",
              "      <td>1 days 16:07:31.109000</td>\n",
              "    </tr>\n",
              "    <tr>\n",
              "      <th>Complete Booking</th>\n",
              "      <td>1 days 21:42:10.466000</td>\n",
              "    </tr>\n",
              "    <tr>\n",
              "      <th>Menu: Home</th>\n",
              "      <td>2 days 03:08:17.604000</td>\n",
              "    </tr>\n",
              "    <tr>\n",
              "      <th>Get Help</th>\n",
              "      <td>2 days 05:32:41.645000</td>\n",
              "    </tr>\n",
              "    <tr>\n",
              "      <th>Learn More</th>\n",
              "      <td>3 days 12:30:35.728000</td>\n",
              "    </tr>\n",
              "    <tr>\n",
              "      <th>Menu: Services</th>\n",
              "      <td>3 days 12:48:16.177000</td>\n",
              "    </tr>\n",
              "  </tbody>\n",
              "</table>\n",
              "</div>"
            ],
            "text/plain": [
              "                                      spent_time\n",
              "spef_event                                      \n",
              "Start at: 11:30 AM        0 days 00:00:02.209000\n",
              "Start at: 03:30 PM        0 days 00:00:07.161000\n",
              "Select: 6 hours           0 days 00:00:09.056000\n",
              "Select: 8 hours           0 days 00:00:10.720000\n",
              "Start at: 10:30 AM        0 days 00:00:20.969000\n",
              "Start at: 03:00 PM        0 days 00:00:29.107000\n",
              "Start at: 04:00 PM        0 days 00:00:35.549000\n",
              "Start at: 02:30 PM        0 days 00:00:36.160000\n",
              "Start at: 01:00 PM        0 days 00:00:37.894000\n",
              "Select: 7 hours           0 days 00:00:38.613000\n",
              "Start at: 02:00 PM        0 days 00:00:44.542000\n",
              "Start at: 11:00 AM        0 days 00:01:18.614000\n",
              "Select: 4 hours           0 days 00:01:23.764000\n",
              "Start at: 01:30 PM        0 days 00:01:58.312000\n",
              "Select Region: Rawalpindi 0 days 00:02:26.170000\n",
              "See Available Slots       0 days 00:06:15.169000\n",
              "Select: 5 hours           0 days 00:07:48.243000\n",
              "Select Region: Islamabad  0 days 00:08:27.247000\n",
              "Start at: 12:00 PM        0 days 00:10:34.581000\n",
              "Watch Now                 0 days 00:16:25.750000\n",
              "Select: 3 hours           0 days 00:40:20.003000\n",
              "Start at: 10:00 AM        0 days 00:40:37.036000\n",
              "Explore Videos            0 days 01:33:53.710000\n",
              "Enter Phone Number        0 days 02:52:09.645000\n",
              "Ironing: Book Now         0 days 03:10:35.052000\n",
              "Select: 2 hours           0 days 03:21:35.507000\n",
              "Select Helper: Male       0 days 03:54:32.353000\n",
              "FAQs                      0 days 04:07:02.687000\n",
              "Join Us                   0 days 05:23:03.055000\n",
              "Booking Summary           0 days 05:55:21.595000\n",
              "Select Region: Lahore     0 days 06:36:46.002000\n",
              "Back                      0 days 07:25:49.265000\n",
              "Address Input             0 days 08:41:33.424000\n",
              "Select Helper: Female     0 days 14:00:13.177000\n",
              "Connect on Messenger      0 days 16:00:46.945000\n",
              "Cleaning: Book Now        0 days 19:05:21.657000\n",
              "Cooking: Book Now         0 days 19:11:32.838000\n",
              "Share in WhatsApp         1 days 02:26:50.352000\n",
              "Menu: Contact Us          1 days 16:07:31.109000\n",
              "Complete Booking          1 days 21:42:10.466000\n",
              "Menu: Home                2 days 03:08:17.604000\n",
              "Get Help                  2 days 05:32:41.645000\n",
              "Learn More                3 days 12:30:35.728000\n",
              "Menu: Services            3 days 12:48:16.177000"
            ]
          },
          "metadata": {
            "tags": []
          },
          "execution_count": 628
        }
      ]
    },
    {
      "cell_type": "markdown",
      "metadata": {
        "id": "kmw2XGDgyIcZ"
      },
      "source": [
        "Most time spent by the users on these 3 steps/actions -\n",
        "\n",
        " 1) 3 days 12:48:16.177000 on the Menu: Services.\\\n",
        " 2) 3 days 12:30:35.728000 on the Learn More.\\\n",
        " 3) 2 days 05:32:41.645000 on the Get Help\n",
        "\n",
        "\n",
        "It clearly shows that the users are having trouble in navigating the platform."
      ],
      "id": "kmw2XGDgyIcZ"
    },
    {
      "cell_type": "code",
      "metadata": {
        "id": "SPoGamGkD7vu"
      },
      "source": [
        "import re\n",
        "def validate_if_booking(x): #function to search for the successful booking page\n",
        "    bookings = [\"Ironing: Booking Successful Page\",\"Cooking: Booking Successful Page\",\"Cleaning: Booking Successful Page\"]\n",
        "    for booking in bookings:\n",
        "        if re.search(booking, x, re.IGNORECASE):\n",
        "            return booking\n",
        "    return \"other\"\n",
        "\n",
        "pages_b = pages.copy()\n",
        "pages_b[\"bookings\"] = pages[\"page\"].apply(lambda x: validate_if_booking(x))"
      ],
      "id": "SPoGamGkD7vu",
      "execution_count": 629,
      "outputs": []
    },
    {
      "cell_type": "code",
      "metadata": {
        "colab": {
          "base_uri": "https://localhost:8080/",
          "height": 705
        },
        "id": "Hol6V_lERB_o",
        "outputId": "f2d9b045-5385-48e7-b000-a0b0ea279afb"
      },
      "source": [
        "pages_b.groupby(['bookings','userId']).sum()"
      ],
      "id": "Hol6V_lERB_o",
      "execution_count": 630,
      "outputs": [
        {
          "output_type": "execute_result",
          "data": {
            "text/html": [
              "<div>\n",
              "<style scoped>\n",
              "    .dataframe tbody tr th:only-of-type {\n",
              "        vertical-align: middle;\n",
              "    }\n",
              "\n",
              "    .dataframe tbody tr th {\n",
              "        vertical-align: top;\n",
              "    }\n",
              "\n",
              "    .dataframe thead th {\n",
              "        text-align: right;\n",
              "    }\n",
              "</style>\n",
              "<table border=\"1\" class=\"dataframe\">\n",
              "  <thead>\n",
              "    <tr style=\"text-align: right;\">\n",
              "      <th></th>\n",
              "      <th></th>\n",
              "      <th>page</th>\n",
              "      <th>services</th>\n",
              "      <th>campaigns</th>\n",
              "    </tr>\n",
              "    <tr>\n",
              "      <th>bookings</th>\n",
              "      <th>userId</th>\n",
              "      <th></th>\n",
              "      <th></th>\n",
              "      <th></th>\n",
              "    </tr>\n",
              "  </thead>\n",
              "  <tbody>\n",
              "    <tr>\n",
              "      <th rowspan=\"5\" valign=\"top\">Cleaning: Booking Successful Page</th>\n",
              "      <th>0a486672-8de4-47d3-be46-320c1d8e4b08</th>\n",
              "      <td>Cleaning: Booking Successful PageCleaning: Boo...</td>\n",
              "      <td>cleaningcleaningcleaningcleaning</td>\n",
              "      <td>otherotherotherother</td>\n",
              "    </tr>\n",
              "    <tr>\n",
              "      <th>132b2b1c-ee8a-41ef-8bbc-892547648e16</th>\n",
              "      <td>Cleaning: Booking Successful Page</td>\n",
              "      <td>cleaning</td>\n",
              "      <td>other</td>\n",
              "    </tr>\n",
              "    <tr>\n",
              "      <th>17eda4f8-ec89-46e3-bd16-225cc3c26f27</th>\n",
              "      <td>Cleaning: Booking Successful Page</td>\n",
              "      <td>cleaning</td>\n",
              "      <td>other</td>\n",
              "    </tr>\n",
              "    <tr>\n",
              "      <th>18a1062f-1fdd-46f0-b35a-9eb5770a7a2b</th>\n",
              "      <td>Cleaning: Booking Successful PageCleaning: Boo...</td>\n",
              "      <td>cleaningcleaning</td>\n",
              "      <td>otherother</td>\n",
              "    </tr>\n",
              "    <tr>\n",
              "      <th>41500506-5201-4bca-ad98-0ab0b710f32e</th>\n",
              "      <td>Cleaning: Booking Successful Page</td>\n",
              "      <td>cleaning</td>\n",
              "      <td>other</td>\n",
              "    </tr>\n",
              "    <tr>\n",
              "      <th>...</th>\n",
              "      <th>...</th>\n",
              "      <td>...</td>\n",
              "      <td>...</td>\n",
              "      <td>...</td>\n",
              "    </tr>\n",
              "    <tr>\n",
              "      <th rowspan=\"5\" valign=\"top\">other</th>\n",
              "      <th>fe4101c5-95fd-414f-ba1f-be47b96570d0</th>\n",
              "      <td>Campaign 1 - Landing PageServices PageHome Page</td>\n",
              "      <td>otherotherother</td>\n",
              "      <td>Campaign 1 - Landing Pageotherother</td>\n",
              "    </tr>\n",
              "    <tr>\n",
              "      <th>fec45e5d-c22e-4eb4-b604-1204848cd9bb</th>\n",
              "      <td>Campaign 1 - Landing PageCleaning: Learn More ...</td>\n",
              "      <td>othercleaningothercleaning</td>\n",
              "      <td>Campaign 1 - Landing Pageotherotherother</td>\n",
              "    </tr>\n",
              "    <tr>\n",
              "      <th>ff4fe32a-a8fc-497d-bf57-7e75c3fb4596</th>\n",
              "      <td>Campaign 2 - Landing PageError Page</td>\n",
              "      <td>otherother</td>\n",
              "      <td>Campaign 2 - Landing Pageother</td>\n",
              "    </tr>\n",
              "    <tr>\n",
              "      <th>ff5ddd13-b6cc-4ca8-b1fe-5c942764a5a9</th>\n",
              "      <td>Campaign 2 - Landing PageServices Page</td>\n",
              "      <td>otherother</td>\n",
              "      <td>Campaign 2 - Landing Pageother</td>\n",
              "    </tr>\n",
              "    <tr>\n",
              "      <th>ff727b75-9aff-43e2-864c-c513025456a7</th>\n",
              "      <td>Campaign 1 - Landing PageServices PageCleaning...</td>\n",
              "      <td>otherothercleaningcleaningothercleaningothercl...</td>\n",
              "      <td>Campaign 1 - Landing Pageotherotherotherothero...</td>\n",
              "    </tr>\n",
              "  </tbody>\n",
              "</table>\n",
              "<p>1078 rows × 3 columns</p>\n",
              "</div>"
            ],
            "text/plain": [
              "                                                                                                                     page  ...                                          campaigns\n",
              "bookings                          userId                                                                                   ...                                                   \n",
              "Cleaning: Booking Successful Page 0a486672-8de4-47d3-be46-320c1d8e4b08  Cleaning: Booking Successful PageCleaning: Boo...  ...                               otherotherotherother\n",
              "                                  132b2b1c-ee8a-41ef-8bbc-892547648e16                  Cleaning: Booking Successful Page  ...                                              other\n",
              "                                  17eda4f8-ec89-46e3-bd16-225cc3c26f27                  Cleaning: Booking Successful Page  ...                                              other\n",
              "                                  18a1062f-1fdd-46f0-b35a-9eb5770a7a2b  Cleaning: Booking Successful PageCleaning: Boo...  ...                                         otherother\n",
              "                                  41500506-5201-4bca-ad98-0ab0b710f32e                  Cleaning: Booking Successful Page  ...                                              other\n",
              "...                                                                                                                   ...  ...                                                ...\n",
              "other                             fe4101c5-95fd-414f-ba1f-be47b96570d0    Campaign 1 - Landing PageServices PageHome Page  ...                Campaign 1 - Landing Pageotherother\n",
              "                                  fec45e5d-c22e-4eb4-b604-1204848cd9bb  Campaign 1 - Landing PageCleaning: Learn More ...  ...           Campaign 1 - Landing Pageotherotherother\n",
              "                                  ff4fe32a-a8fc-497d-bf57-7e75c3fb4596                Campaign 2 - Landing PageError Page  ...                     Campaign 2 - Landing Pageother\n",
              "                                  ff5ddd13-b6cc-4ca8-b1fe-5c942764a5a9             Campaign 2 - Landing PageServices Page  ...                     Campaign 2 - Landing Pageother\n",
              "                                  ff727b75-9aff-43e2-864c-c513025456a7  Campaign 1 - Landing PageServices PageCleaning...  ...  Campaign 1 - Landing Pageotherotherotherothero...\n",
              "\n",
              "[1078 rows x 3 columns]"
            ]
          },
          "metadata": {
            "tags": []
          },
          "execution_count": 630
        }
      ]
    },
    {
      "cell_type": "code",
      "metadata": {
        "id": "xopvh01nbDXy"
      },
      "source": [
        "pages_b['bookings'] = pages_b['bookings'].str.replace('Cleaning: Booking Successful Page','booked') #replacing all the successful booking pages to the word booked"
      ],
      "id": "xopvh01nbDXy",
      "execution_count": 631,
      "outputs": []
    },
    {
      "cell_type": "code",
      "metadata": {
        "id": "SFDSVulfbWoM"
      },
      "source": [
        "pages_b['bookings'] = pages_b['bookings'].str.replace('Cooking: Booking Successful Page','booked')"
      ],
      "id": "SFDSVulfbWoM",
      "execution_count": 632,
      "outputs": []
    },
    {
      "cell_type": "code",
      "metadata": {
        "id": "etYA2sZCbfSZ"
      },
      "source": [
        "pages_b['bookings'] = pages_b['bookings'].str.replace('Ironing: Booking Successful Page','booked')"
      ],
      "id": "etYA2sZCbfSZ",
      "execution_count": 633,
      "outputs": []
    },
    {
      "cell_type": "code",
      "metadata": {
        "colab": {
          "base_uri": "https://localhost:8080/",
          "height": 204
        },
        "id": "GOaz-tusTauy",
        "outputId": "31166016-dddc-43cd-cefd-694c8bb0909c"
      },
      "source": [
        "pages_b.head()"
      ],
      "id": "GOaz-tusTauy",
      "execution_count": 634,
      "outputs": [
        {
          "output_type": "execute_result",
          "data": {
            "text/html": [
              "<div>\n",
              "<style scoped>\n",
              "    .dataframe tbody tr th:only-of-type {\n",
              "        vertical-align: middle;\n",
              "    }\n",
              "\n",
              "    .dataframe tbody tr th {\n",
              "        vertical-align: top;\n",
              "    }\n",
              "\n",
              "    .dataframe thead th {\n",
              "        text-align: right;\n",
              "    }\n",
              "</style>\n",
              "<table border=\"1\" class=\"dataframe\">\n",
              "  <thead>\n",
              "    <tr style=\"text-align: right;\">\n",
              "      <th></th>\n",
              "      <th>userId</th>\n",
              "      <th>page</th>\n",
              "      <th>time</th>\n",
              "      <th>services</th>\n",
              "      <th>campaigns</th>\n",
              "      <th>bookings</th>\n",
              "    </tr>\n",
              "  </thead>\n",
              "  <tbody>\n",
              "    <tr>\n",
              "      <th>0</th>\n",
              "      <td>2acefd2c-8a82-4e1d-8aff-044522455633</td>\n",
              "      <td>Campaign 2 - Landing Page</td>\n",
              "      <td>2021-03-10 04:17:25</td>\n",
              "      <td>other</td>\n",
              "      <td>Campaign 2 - Landing Page</td>\n",
              "      <td>other</td>\n",
              "    </tr>\n",
              "    <tr>\n",
              "      <th>1</th>\n",
              "      <td>2acefd2c-8a82-4e1d-8aff-044522455633</td>\n",
              "      <td>Ironing: Learn More Page</td>\n",
              "      <td>2021-03-10 04:17:30</td>\n",
              "      <td>ironing</td>\n",
              "      <td>other</td>\n",
              "      <td>other</td>\n",
              "    </tr>\n",
              "    <tr>\n",
              "      <th>2</th>\n",
              "      <td>58691bae-d6ef-4f18-be62-fe071baddf0b</td>\n",
              "      <td>Campaign 1 - Landing Page</td>\n",
              "      <td>2021-03-10 04:30:45</td>\n",
              "      <td>other</td>\n",
              "      <td>Campaign 1 - Landing Page</td>\n",
              "      <td>other</td>\n",
              "    </tr>\n",
              "    <tr>\n",
              "      <th>3</th>\n",
              "      <td>58691bae-d6ef-4f18-be62-fe071baddf0b</td>\n",
              "      <td>Cleaning: Booking First Page</td>\n",
              "      <td>2021-03-10 04:30:50</td>\n",
              "      <td>cleaning</td>\n",
              "      <td>other</td>\n",
              "      <td>other</td>\n",
              "    </tr>\n",
              "    <tr>\n",
              "      <th>4</th>\n",
              "      <td>58691bae-d6ef-4f18-be62-fe071baddf0b</td>\n",
              "      <td>Home Page</td>\n",
              "      <td>2021-03-10 04:31:12</td>\n",
              "      <td>other</td>\n",
              "      <td>other</td>\n",
              "      <td>other</td>\n",
              "    </tr>\n",
              "  </tbody>\n",
              "</table>\n",
              "</div>"
            ],
            "text/plain": [
              "                                 userId  ... bookings\n",
              "0  2acefd2c-8a82-4e1d-8aff-044522455633  ...    other\n",
              "1  2acefd2c-8a82-4e1d-8aff-044522455633  ...    other\n",
              "2  58691bae-d6ef-4f18-be62-fe071baddf0b  ...    other\n",
              "3  58691bae-d6ef-4f18-be62-fe071baddf0b  ...    other\n",
              "4  58691bae-d6ef-4f18-be62-fe071baddf0b  ...    other\n",
              "\n",
              "[5 rows x 6 columns]"
            ]
          },
          "metadata": {
            "tags": []
          },
          "execution_count": 634
        }
      ]
    },
    {
      "cell_type": "code",
      "metadata": {
        "colab": {
          "base_uri": "https://localhost:8080/"
        },
        "id": "7Nw27KX1dNDx",
        "outputId": "f3666d32-bcdf-42cb-9ee3-9688292741db"
      },
      "source": [
        "pages_b = pages_b.groupby(['userId','time','bookings']).sum() \n",
        "print(pages_b)"
      ],
      "id": "7Nw27KX1dNDx",
      "execution_count": 635,
      "outputs": [
        {
          "output_type": "stream",
          "text": [
            "                                                                                             page  ...                  campaigns\n",
            "userId                               time                bookings                                  ...                           \n",
            "00199b58-2875-47a6-bcc6-eeb30e7575a2 2021-03-25 08:49:29 other          Campaign 1 - Landing Page  ...  Campaign 1 - Landing Page\n",
            "015395a0-0401-462b-9eee-47a6c0af549a 2021-03-19 10:40:43 other          Campaign 2 - Landing Page  ...  Campaign 2 - Landing Page\n",
            "                                     2021-03-19 10:40:52 other       Cleaning: Booking First Page  ...                      other\n",
            "                                     2021-03-19 10:41:06 other                      Services Page  ...                      other\n",
            "                                     2021-03-19 10:41:14 other       Cleaning: Booking First Page  ...                      other\n",
            "...                                                                                           ...  ...                        ...\n",
            "ff727b75-9aff-43e2-864c-c513025456a7 2021-03-17 13:00:30 other       Cleaning: Booking First Page  ...                      other\n",
            "                                     2021-03-17 13:00:40 other                      Services Page  ...                      other\n",
            "                                     2021-03-17 13:00:49 other       Cleaning: Booking First Page  ...                      other\n",
            "                                     2021-03-17 13:01:31 other      Cleaning: Booking Second Page  ...                      other\n",
            "                                     2021-03-17 13:02:26 other     Cleaning: Booking Summary Page  ...                      other\n",
            "\n",
            "[3328 rows x 3 columns]\n"
          ],
          "name": "stdout"
        }
      ]
    },
    {
      "cell_type": "code",
      "metadata": {
        "colab": {
          "base_uri": "https://localhost:8080/"
        },
        "id": "uieTRVJQVQ2M",
        "outputId": "f96ff013-0c8a-431d-afe6-8bc9725239b6"
      },
      "source": [
        "pages_b = pages_b.query('bookings==\"booked\"').groupby(['userId','bookings']).size().reset_index(name='count') #Checking how many bookings each user has made\n",
        "print (pages_b)"
      ],
      "id": "uieTRVJQVQ2M",
      "execution_count": 636,
      "outputs": [
        {
          "output_type": "stream",
          "text": [
            "                                  userId bookings  count\n",
            "0   0a486672-8de4-47d3-be46-320c1d8e4b08   booked      4\n",
            "1   132b2b1c-ee8a-41ef-8bbc-892547648e16   booked      1\n",
            "2   17eda4f8-ec89-46e3-bd16-225cc3c26f27   booked      1\n",
            "3   18a1062f-1fdd-46f0-b35a-9eb5770a7a2b   booked      2\n",
            "4   2cede939-00ea-4543-b99a-fadc3fe37c4f   booked      2\n",
            "5   41500506-5201-4bca-ad98-0ab0b710f32e   booked      1\n",
            "6   495eafd7-46ba-4d11-887b-5e8aa24bc24e   booked     25\n",
            "7   49f9d4df-6921-4dde-9227-2fb5bc74f76e   booked      2\n",
            "8   52be2487-209f-4ef8-87af-37fd172032fb   booked      1\n",
            "9   5953d2c4-ab5c-4282-aeda-2321d46d6b2d   booked      2\n",
            "10  671f0516-d2e6-452c-bd36-6a4964eea436   booked      1\n",
            "11  6c084ead-635e-46db-836d-63d667264a2b   booked      3\n",
            "12  70da102f-1222-469d-96d9-6e6e2ad3d354   booked      1\n",
            "13  7204a21c-b73b-4ac3-9ca3-8911c75c6567   booked      1\n",
            "14  7ace7208-d08d-4dc0-812d-c0c3df6f59b0   booked      1\n",
            "15  7e44f561-17b5-4a30-b3d2-0bed05b2c2a3   booked      2\n",
            "16  82fa23d4-deae-4bf9-8e3c-a9da17fbda1a   booked      1\n",
            "17  b7c3ee44-f4d2-4a6d-8d2d-13b657cc385d   booked      1\n",
            "18  bb726fd7-669d-4bd2-85ff-36ac777f460c   booked      1\n",
            "19  ce2dac97-46f6-4f01-b6a3-b57d825df10d   booked      3\n",
            "20  ced3fed8-b7b7-469a-9043-5d98765e1c19   booked      1\n",
            "21  d06662fa-1ef3-401f-b78c-7bfd792bf443   booked      3\n",
            "22  d12658ca-9297-4c9d-97c2-5c99ea7c15d2   booked      2\n",
            "23  d5a783d2-d0f9-4af6-a371-9641cef94505   booked      3\n",
            "24  e549cb18-a8ad-46c6-beb7-682412114e7f   booked      1\n",
            "25  e768090b-79ac-452a-a993-468f224159fa   booked      2\n",
            "26  f17ae633-ff48-432a-b922-d78243b5dc8e   booked      2\n",
            "27  f8e3750a-9e5f-42ec-9c13-25008503ba22   booked      3\n"
          ],
          "name": "stdout"
        }
      ]
    },
    {
      "cell_type": "markdown",
      "metadata": {
        "id": "M8ZtB2LzzDog"
      },
      "source": [
        "userId - 495eafd7-46ba-4d11-887b-5e8aa24bc24e made 25 bookings which is the highest. \\\n",
        "Total number of completed bookings = 73\n"
      ],
      "id": "M8ZtB2LzzDog"
    },
    {
      "cell_type": "code",
      "metadata": {
        "colab": {
          "base_uri": "https://localhost:8080/"
        },
        "id": "e6ABi3FVFNFL",
        "outputId": "7f19dbe4-3b59-4da5-9c42-90485c98f9af"
      },
      "source": [
        "events.pivot_table(columns=['userId'], aggfunc='size') #Checking the unique users"
      ],
      "id": "e6ABi3FVFNFL",
      "execution_count": 637,
      "outputs": [
        {
          "output_type": "execute_result",
          "data": {
            "text/plain": [
              "userId\n",
              "015395a0-0401-462b-9eee-47a6c0af549a     8\n",
              "0153be36-325f-4d0b-b23f-2e8db26c7179     1\n",
              "019ba6ec-1c1a-4e43-ae94-4524d6ed15e7     4\n",
              "01aaa65f-65a5-4ac4-bcb4-1687d9ece15a    13\n",
              "0281b511-0cd4-4f8b-9e37-2d5192adff70     1\n",
              "                                        ..\n",
              "fcb4b46c-931d-49e0-88e9-f58fca09e8e4     2\n",
              "fe4101c5-95fd-414f-ba1f-be47b96570d0     2\n",
              "fec45e5d-c22e-4eb4-b604-1204848cd9bb     4\n",
              "ff5ddd13-b6cc-4ca8-b1fe-5c942764a5a9     1\n",
              "ff727b75-9aff-43e2-864c-c513025456a7    23\n",
              "Length: 542, dtype: int64"
            ]
          },
          "metadata": {
            "tags": []
          },
          "execution_count": 637
        }
      ]
    },
    {
      "cell_type": "markdown",
      "metadata": {
        "id": "Tsy2KzQB_WgL"
      },
      "source": [
        "Number of repeated users are 542"
      ],
      "id": "Tsy2KzQB_WgL"
    }
  ]
}